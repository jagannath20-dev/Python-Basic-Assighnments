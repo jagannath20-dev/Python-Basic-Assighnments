{
 "cells": [
  {
   "cell_type": "markdown",
   "id": "0dd7e7d2",
   "metadata": {},
   "source": [
    "1. What does an empty dictionary's code look like?\n"
   ]
  },
  {
   "cell_type": "code",
   "execution_count": 2,
   "id": "91f4a710",
   "metadata": {},
   "outputs": [
    {
     "data": {
      "text/plain": [
       "dict"
      ]
     },
     "execution_count": 2,
     "metadata": {},
     "output_type": "execute_result"
    }
   ],
   "source": [
    "dict1 = {}\n",
    "type(dict1)"
   ]
  },
  {
   "cell_type": "markdown",
   "id": "6d2e169d",
   "metadata": {},
   "source": [
    "2. What is the value of a dictionary value with the key 'foo' and the value 42?\n"
   ]
  },
  {
   "cell_type": "code",
   "execution_count": 3,
   "id": "23edce67",
   "metadata": {},
   "outputs": [
    {
     "data": {
      "text/plain": [
       "{'foo': 42}"
      ]
     },
     "execution_count": 3,
     "metadata": {},
     "output_type": "execute_result"
    }
   ],
   "source": [
    "{'foo' : 42}"
   ]
  },
  {
   "cell_type": "markdown",
   "id": "1fcb4e41",
   "metadata": {},
   "source": [
    "3. What is the most significant distinction between a dictionary and a list?\n"
   ]
  },
  {
   "cell_type": "markdown",
   "id": "0bdbdff2",
   "metadata": {},
   "source": [
    "Answer :\n",
    "    \n",
    "        List: A unhashsable collection of ordered, mutable objects.\n",
    "        \n",
    "        Dictionary : A unhashable,unordered collection of mutable objects that maps hashable values to arbitrary                            values."
   ]
  },
  {
   "cell_type": "markdown",
   "id": "6bbca7c6",
   "metadata": {},
   "source": [
    "4. What happens if you try to access spam['foo'] if spam is {'bar': 100}?\n"
   ]
  },
  {
   "cell_type": "code",
   "execution_count": 4,
   "id": "bc35c88c",
   "metadata": {},
   "outputs": [
    {
     "ename": "KeyError",
     "evalue": "'foo'",
     "output_type": "error",
     "traceback": [
      "\u001b[0;31m---------------------------------------------------------------------------\u001b[0m",
      "\u001b[0;31mKeyError\u001b[0m                                  Traceback (most recent call last)",
      "\u001b[0;32m/var/folders/z7/qth8mz354rn7bm3cdy_lz4800000gn/T/ipykernel_2547/4026577702.py\u001b[0m in \u001b[0;36m<module>\u001b[0;34m\u001b[0m\n\u001b[1;32m      1\u001b[0m \u001b[0mspam\u001b[0m \u001b[0;34m=\u001b[0m \u001b[0;34m{\u001b[0m\u001b[0;34m'bar'\u001b[0m\u001b[0;34m:\u001b[0m\u001b[0;36m100\u001b[0m\u001b[0;34m}\u001b[0m\u001b[0;34m\u001b[0m\u001b[0;34m\u001b[0m\u001b[0m\n\u001b[0;32m----> 2\u001b[0;31m \u001b[0mspam\u001b[0m\u001b[0;34m[\u001b[0m\u001b[0;34m'foo'\u001b[0m\u001b[0;34m]\u001b[0m\u001b[0;34m\u001b[0m\u001b[0;34m\u001b[0m\u001b[0m\n\u001b[0m",
      "\u001b[0;31mKeyError\u001b[0m: 'foo'"
     ]
    }
   ],
   "source": [
    "spam = {'bar':100}\n",
    "spam['foo']"
   ]
  },
  {
   "cell_type": "markdown",
   "id": "bc8f86e3",
   "metadata": {},
   "source": [
    "5. If a dictionary is stored in spam, what is the difference between the expressions 'cat' in spam and 'cat' in spam.keys()?\n"
   ]
  },
  {
   "cell_type": "code",
   "execution_count": 7,
   "id": "88a0e898",
   "metadata": {},
   "outputs": [
    {
     "data": {
      "text/plain": [
       "True"
      ]
     },
     "execution_count": 7,
     "metadata": {},
     "output_type": "execute_result"
    }
   ],
   "source": [
    "spam = {'cat':100,'dog':200,'tiger':300,'lion':400}\n",
    "'cat' in spam"
   ]
  },
  {
   "cell_type": "code",
   "execution_count": 8,
   "id": "c8f5777f",
   "metadata": {},
   "outputs": [
    {
     "data": {
      "text/plain": [
       "dict_keys(['cat', 'dog', 'tiger', 'lion'])"
      ]
     },
     "execution_count": 8,
     "metadata": {},
     "output_type": "execute_result"
    }
   ],
   "source": [
    "spam.keys()"
   ]
  },
  {
   "cell_type": "markdown",
   "id": "801e5d7a",
   "metadata": {},
   "source": [
    "The difference between cat in spam and spam.keys() is :\n",
    "\n",
    "spam.keys() functions gives list of keys present in the dictionary.\n",
    "\n",
    "'cat' in spam checks that key 'cat'is in dictionary. If it exists in dictionary it gives True otherwise it gives False"
   ]
  },
  {
   "cell_type": "markdown",
   "id": "cdd02fb9",
   "metadata": {},
   "source": [
    "7. What is a shortcut for the following code?\n",
    "\n",
    "if 'color' not in spam:\n",
    "\n",
    "spam['color'] = 'black'"
   ]
  },
  {
   "cell_type": "code",
   "execution_count": 15,
   "id": "7a95b4d7",
   "metadata": {},
   "outputs": [
    {
     "data": {
      "text/plain": [
       "{'cat': 100}"
      ]
     },
     "execution_count": 15,
     "metadata": {},
     "output_type": "execute_result"
    }
   ],
   "source": [
    "spam = {'cat': 100}\n",
    "spam"
   ]
  },
  {
   "cell_type": "code",
   "execution_count": 12,
   "id": "cbf363d2",
   "metadata": {},
   "outputs": [
    {
     "data": {
      "text/plain": [
       "'black'"
      ]
     },
     "execution_count": 12,
     "metadata": {},
     "output_type": "execute_result"
    }
   ],
   "source": [
    "spam.setdefault('color','black')"
   ]
  },
  {
   "cell_type": "code",
   "execution_count": 13,
   "id": "c26d4648",
   "metadata": {},
   "outputs": [
    {
     "data": {
      "text/plain": [
       "{'cat': 100, 'color': 'black'}"
      ]
     },
     "execution_count": 13,
     "metadata": {},
     "output_type": "execute_result"
    }
   ],
   "source": [
    "spam"
   ]
  },
  {
   "cell_type": "markdown",
   "id": "4cefbbd0",
   "metadata": {},
   "source": [
    "8. How do you \"pretty print\" dictionary values using which module and function?\n"
   ]
  },
  {
   "cell_type": "code",
   "execution_count": 16,
   "id": "3cb78a45",
   "metadata": {},
   "outputs": [],
   "source": [
    "import pprint\n",
    "dct_arr = [\n",
    "  {'Name': 'Jagannath', 'Age': '24', 'Country': 'USA'},\n",
    "  {'Name': 'Shiva', 'Age': '22', 'Country': 'Spain'},\n",
    "  {'Name': 'Hari', 'Age': '21', 'Country': 'UK'},\n",
    "  {'Name': 'Krishna', 'Age': '35', 'Country': 'Japan'}\n",
    "]"
   ]
  },
  {
   "cell_type": "code",
   "execution_count": 17,
   "id": "9ef92a14",
   "metadata": {},
   "outputs": [
    {
     "name": "stdout",
     "output_type": "stream",
     "text": [
      "[{'Age': '24', 'Country': 'USA', 'Name': 'Jagannath'},\n",
      " {'Age': '22', 'Country': 'Spain', 'Name': 'Shiva'},\n",
      " {'Age': '21', 'Country': 'UK', 'Name': 'Hari'},\n",
      " {'Age': '35', 'Country': 'Japan', 'Name': 'Krishna'}]\n"
     ]
    }
   ],
   "source": [
    "pprint.pprint(dct_arr)"
   ]
  },
  {
   "cell_type": "code",
   "execution_count": 18,
   "id": "7117645b",
   "metadata": {},
   "outputs": [
    {
     "name": "stdout",
     "output_type": "stream",
     "text": [
      "[{'Name': 'Jagannath', 'Age': '24', 'Country': 'USA'}, {'Name': 'Shiva', 'Age': '22', 'Country': 'Spain'}, {'Name': 'Hari', 'Age': '21', 'Country': 'UK'}, {'Name': 'Krishna', 'Age': '35', 'Country': 'Japan'}]\n"
     ]
    }
   ],
   "source": [
    "print(dct_arr)"
   ]
  },
  {
   "cell_type": "code",
   "execution_count": null,
   "id": "a1a278e3",
   "metadata": {},
   "outputs": [],
   "source": []
  }
 ],
 "metadata": {
  "kernelspec": {
   "display_name": "Python 3 (ipykernel)",
   "language": "python",
   "name": "python3"
  },
  "language_info": {
   "codemirror_mode": {
    "name": "ipython",
    "version": 3
   },
   "file_extension": ".py",
   "mimetype": "text/x-python",
   "name": "python",
   "nbconvert_exporter": "python",
   "pygments_lexer": "ipython3",
   "version": "3.9.7"
  }
 },
 "nbformat": 4,
 "nbformat_minor": 5
}
