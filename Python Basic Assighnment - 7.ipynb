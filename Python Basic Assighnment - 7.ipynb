{
 "cells": [
  {
   "cell_type": "markdown",
   "id": "50c43c7a",
   "metadata": {},
   "source": [
    "1. What is the name of the feature responsible for generating Regex objects?\n"
   ]
  },
  {
   "cell_type": "markdown",
   "id": "4d01b56f",
   "metadata": {},
   "source": [
    "Answer :\n",
    "    \n",
    "         re modulue is used for generation of regex objects.\n",
    "         \n",
    "Syntax :  re.compile()"
   ]
  },
  {
   "cell_type": "markdown",
   "id": "d6e88dcf",
   "metadata": {},
   "source": [
    "2. Why do raw strings often appear in Regex objects?\n"
   ]
  },
  {
   "cell_type": "markdown",
   "id": "3e7ad100",
   "metadata": {},
   "source": [
    "Answer :\n",
    "    \n",
    "          Raw strings are used for then backslash doesn't have any any scope from escaping.  "
   ]
  },
  {
   "cell_type": "markdown",
   "id": "83d50e42",
   "metadata": {},
   "source": [
    "3. What is the return value of the search() method?\n"
   ]
  },
  {
   "cell_type": "markdown",
   "id": "1ce2efc9",
   "metadata": {},
   "source": [
    "Answer :\n",
    "    \n",
    "    search() function returns match objects and returns match objects else it reurns none."
   ]
  },
  {
   "cell_type": "markdown",
   "id": "7f5180eb",
   "metadata": {},
   "source": [
    "4. From a Match item, how do you get the actual strings that match the pattern?\n"
   ]
  },
  {
   "cell_type": "markdown",
   "id": "cf79b565",
   "metadata": {},
   "source": [
    "Answer :\n",
    "    \n",
    "      The group() method retruns the strings of the matched text."
   ]
  },
  {
   "cell_type": "markdown",
   "id": "79879ea2",
   "metadata": {},
   "source": [
    "5. In the regex which created from the r'(\\d\\d\\d)-(\\d\\d\\d-\\d\\d\\d\\d)', what does group zero cover? Group 2? Group 1?\n"
   ]
  },
  {
   "cell_type": "markdown",
   "id": "af19b2a6",
   "metadata": {},
   "source": [
    "Answer :\n",
    "       \n",
    "        Group 0 covers entire part.\n",
    "        \n",
    "        Group 1 covers the first set of parenthesis.\n",
    "        \n",
    "        Group 2 covers the second set of parenthesis."
   ]
  },
  {
   "cell_type": "markdown",
   "id": "6c6efadc",
   "metadata": {},
   "source": [
    "6. In standard expression syntax, parentheses and intervals have distinct meanings. How can you tell a regex that you want it to fit real parentheses and periods?\n"
   ]
  },
  {
   "cell_type": "markdown",
   "id": "fb498174",
   "metadata": {},
   "source": [
    "Answers :\n",
    "    \n",
    "    Periods and Parenthesis can be escaped with a backslash \\., \\(, and \\)."
   ]
  },
  {
   "cell_type": "markdown",
   "id": "176bd512",
   "metadata": {},
   "source": [
    "7. The findall() method returns a string list or a list of string tuples. What causes it to return one of the two options?\n"
   ]
  },
  {
   "cell_type": "markdown",
   "id": "078f0536",
   "metadata": {},
   "source": [
    "Answer :\n",
    "    \n",
    "       If the regex has no groups, a list of strings is returned. If the regex has groups, a list of tuples of \n",
    "       strings is returned."
   ]
  },
  {
   "cell_type": "markdown",
   "id": "68319025",
   "metadata": {},
   "source": [
    "8. In standard expressions, what does the | character mean?"
   ]
  },
  {
   "cell_type": "markdown",
   "id": "199fbe6d",
   "metadata": {},
   "source": [
    "Answer : \n",
    "    \n",
    "       In standard expressions, | means or Operator."
   ]
  },
  {
   "cell_type": "markdown",
   "id": "76770e93",
   "metadata": {},
   "source": [
    "9. In regular expressions, what does the character stand for?\n"
   ]
  },
  {
   "cell_type": "markdown",
   "id": "f76321b9",
   "metadata": {},
   "source": [
    "Answer :\n",
    "    \n",
    "     The ? character can either mean \"match zero or one of the preceding group\" or be used to signify nongreedy             matching."
   ]
  },
  {
   "cell_type": "markdown",
   "id": "ff49161b",
   "metadata": {},
   "source": [
    "10.In regular expressions, what is the difference between the + and * characters?\n"
   ]
  },
  {
   "cell_type": "markdown",
   "id": "1244b1ed",
   "metadata": {},
   "source": [
    "Answer :\n",
    "    \n",
    "       The + matches one or more. The * matches zero or more."
   ]
  },
  {
   "cell_type": "markdown",
   "id": "6cc5546f",
   "metadata": {},
   "source": [
    "11. What is the difference between {4} and {4,5} in regular expression?\n"
   ]
  },
  {
   "cell_type": "markdown",
   "id": "01f7e94b",
   "metadata": {},
   "source": [
    "Answer :\n",
    "    \n",
    "      The {4} matches exactly four instances of the preceeding group.\n",
    "        \n",
    "      The {4,5} matches between four and five instances."
   ]
  },
  {
   "cell_type": "markdown",
   "id": "be50647c",
   "metadata": {},
   "source": [
    "12. What do you mean by the \\d, \\w, and \\s shorthand character classes signify in regular expressions?\n"
   ]
  },
  {
   "cell_type": "markdown",
   "id": "b56f8b94",
   "metadata": {},
   "source": [
    "Answer :\n",
    "     \n",
    "      The \\d, \\w, and \\s shorthand character classes match a single digit, word, or space character, respectively."
   ]
  },
  {
   "cell_type": "markdown",
   "id": "138b0264",
   "metadata": {},
   "source": [
    "13. What do means by \\D, \\W, and \\S shorthand character classes signify in regular expressions?\n"
   ]
  },
  {
   "cell_type": "markdown",
   "id": "96d0e178",
   "metadata": {},
   "source": [
    "Answer :\n",
    "     \n",
    "        The \\D, \\W, and \\S shorthand character classes match a single character that is not a digit, word, or space           character, respectively."
   ]
  },
  {
   "cell_type": "markdown",
   "id": "e2d8c839",
   "metadata": {},
   "source": [
    "14. What is the difference between .*? and .*?\n"
   ]
  },
  {
   "cell_type": "markdown",
   "id": "1609930f",
   "metadata": {},
   "source": [
    "Answer :\n",
    "\n",
    "       *? adds ?, a quantifier that matches the preceding element (the \".*\" here) 0 or 1 times.\n",
    "       \n",
    "       * adds *, a quantifier that matches the preceding element (the \".\" here) 0 or more times.\n"
   ]
  },
  {
   "cell_type": "markdown",
   "id": "e150ee1e",
   "metadata": {},
   "source": [
    "15. What is the syntax for matching both numbers and lowercase letters with a character class?\n"
   ]
  },
  {
   "cell_type": "code",
   "execution_count": 7,
   "id": "db5a7a6a",
   "metadata": {},
   "outputs": [
    {
     "name": "stdout",
     "output_type": "stream",
     "text": [
      "matched\n"
     ]
    }
   ],
   "source": [
    "import re\n",
    "def match(text):\n",
    "    pattern = '^[a-z0-9]*$'\n",
    "    if re.search(pattern,text):\n",
    "        return \"matched\"\n",
    "    else:\n",
    "        return\"not matched\"\n",
    "print(match(\"jagannath20\"))"
   ]
  },
  {
   "cell_type": "markdown",
   "id": "a17e83a7",
   "metadata": {},
   "source": [
    "16. What is the procedure for making a normal expression in regax case insensitive?\n"
   ]
  },
  {
   "cell_type": "markdown",
   "id": "1da6aa2b",
   "metadata": {},
   "source": [
    "Answer :\n",
    "    \n",
    "      use re.IGNORECASE to search, match, or sub"
   ]
  },
  {
   "cell_type": "markdown",
   "id": "1343b13e",
   "metadata": {},
   "source": [
    "17. What does the . character normally match? What does it match if re.DOTALL is passed as 2nd argument in re.compile()?\n"
   ]
  },
  {
   "cell_type": "markdown",
   "id": "29eaf910",
   "metadata": {},
   "source": [
    "Answer :\n",
    "    \n",
    "        dot character matches everything in input except newline character\n",
    "        By passing re. DOTALL as the second argument to re. compile() , you can make the dot character match all                characters,including the newline character."
   ]
  },
  {
   "cell_type": "markdown",
   "id": "a42438fc",
   "metadata": {},
   "source": [
    "18. If numReg = re.compile(r'\\d+'), what will numRegex.sub('X', '11 drummers, 10 pipers, five rings, 4 hen') return?\n"
   ]
  },
  {
   "cell_type": "markdown",
   "id": "7bcc6c32",
   "metadata": {},
   "source": [
    "Answer  :\n",
    "    \n",
    "         'X drummers, X pipers, five rings, X hens'"
   ]
  },
  {
   "cell_type": "markdown",
   "id": "1ccf0d1e",
   "metadata": {},
   "source": [
    "19. What does passing re.VERBOSE as the 2nd argument to re.compile() allow to do?\n"
   ]
  },
  {
   "cell_type": "markdown",
   "id": "bdf13af5",
   "metadata": {},
   "source": [
    "Answer  :\n",
    "    \n",
    "         it will allow to add whitespace and comments to string passed to re.compile().\n"
   ]
  },
  {
   "cell_type": "markdown",
   "id": "613b455a",
   "metadata": {},
   "source": [
    "20. How would you write a regex that match a number with comma for every three digits? It must match the given following:\n",
    "\n",
    "'42'\n",
    "\n",
    "'1,234'\n",
    "\n",
    "'6,368,745'\n",
    "\n",
    "but not the following:\n",
    "\n",
    "'12,34,567' (which has only two digits between the commas)\n",
    "\n",
    "'1234' (which lacks commas)\n"
   ]
  },
  {
   "cell_type": "markdown",
   "id": "7ee98852",
   "metadata": {},
   "source": [
    "Answer  : \n",
    "\n",
    "          re.compile(r'^\\d{1,3}(,\\d{3})*$')"
   ]
  },
  {
   "cell_type": "markdown",
   "id": "340d75a5",
   "metadata": {},
   "source": [
    "21. How would you write a regex that matches the full name of someone whose last name is Watanabe? You can assume that the first name that comes before it will always be one word that begins with a capital letter. The regex must match the following:\n",
    "\n",
    "'Haruto Watanabe'\n",
    "\n",
    "'Alice Watanabe'\n",
    "\n",
    "'RoboCop Watanabe'\n",
    "\n",
    "but not the following:\n",
    "\n",
    "'haruto Watanabe' (where the first name is not capitalized)\n",
    "\n",
    "'Mr. Watanabe' (where the preceding word has a nonletter character)\n",
    "\n",
    "'Watanabe' (which has no first name)\n",
    "\n",
    "'Haruto watanabe' (where Watanabe is not capitalized)\n"
   ]
  },
  {
   "cell_type": "code",
   "execution_count": 9,
   "id": "e4bc9429",
   "metadata": {},
   "outputs": [
    {
     "data": {
      "text/plain": [
       "re.compile(r'[A-Z][a-z]*\\sNakamoto', re.UNICODE)"
      ]
     },
     "execution_count": 9,
     "metadata": {},
     "output_type": "execute_result"
    }
   ],
   "source": [
    "re.compile(r'[A-Z][a-z]*\\sNakamoto')"
   ]
  },
  {
   "cell_type": "markdown",
   "id": "c6827166",
   "metadata": {},
   "source": [
    "22. How would you write a regex that matches a sentence where the first word is either Alice, Bob, or Carol; the second word is either eats, pets, or throws; the third word is apples, cats, or baseballs; and the sentence ends with a period? This regex should be case-insensitive. It must match the following:\n",
    "\n",
    "'Alice eats apples.'\n",
    "\n",
    "'Bob pets cats.'\n",
    "\n",
    "'Carol throws baseballs.'\n",
    "\n",
    "'Alice throws Apples.'\n",
    "\n",
    "'BOB EATS CATS.'\n",
    "\n",
    "but not the following:\n",
    "\n",
    "'RoboCop eats apples.'\n",
    "\n",
    "'ALICE THROWS FOOTBALLS.'\n",
    "\n",
    "'Carol eats 7 cats.'\n"
   ]
  },
  {
   "cell_type": "code",
   "execution_count": 10,
   "id": "827bf0cc",
   "metadata": {},
   "outputs": [
    {
     "data": {
      "text/plain": [
       "re.compile(r'(Alice|Bob|Carol)\\s(eats|pets|throws)\\s(apples|cats|baseballs)\\.',\n",
       "re.IGNORECASE|re.UNICODE)"
      ]
     },
     "execution_count": 10,
     "metadata": {},
     "output_type": "execute_result"
    }
   ],
   "source": [
    "re.compile(r'(Alice|Bob|Carol)\\s(eats|pets|throws)\\s(apples|cats|baseballs)\\.', re.IGNORECASE)\n"
   ]
  },
  {
   "cell_type": "code",
   "execution_count": null,
   "id": "e06ee0a1",
   "metadata": {},
   "outputs": [],
   "source": []
  }
 ],
 "metadata": {
  "kernelspec": {
   "display_name": "Python 3 (ipykernel)",
   "language": "python",
   "name": "python3"
  },
  "language_info": {
   "codemirror_mode": {
    "name": "ipython",
    "version": 3
   },
   "file_extension": ".py",
   "mimetype": "text/x-python",
   "name": "python",
   "nbconvert_exporter": "python",
   "pygments_lexer": "ipython3",
   "version": "3.9.7"
  }
 },
 "nbformat": 4,
 "nbformat_minor": 5
}
