{
 "cells": [
  {
   "cell_type": "markdown",
   "id": "bf12ecac",
   "metadata": {},
   "source": [
    "1. Is the Python Standard Library included with PyInputPlus?"
   ]
  },
  {
   "cell_type": "markdown",
   "id": "c2946689",
   "metadata": {},
   "source": [
    "Answer :\n",
    "    \n",
    "       No, PyIntPlus is a not a part of standard library, it needs to be installed by using the command \n",
    "       \n",
    "       pip install PyIntPlus"
   ]
  },
  {
   "cell_type": "markdown",
   "id": "2201da9f",
   "metadata": {},
   "source": [
    "2. Why is PyInputPlus commonly imported with import pyinputplus as pypi?\n"
   ]
  },
  {
   "cell_type": "markdown",
   "id": "46dc3d49",
   "metadata": {},
   "source": [
    "Answer  :\n",
    "    \n",
    "        PyIntPlus will keep asking users for text with a valid input. It is recommended to import PyIntPlus \n",
    "        \n",
    "        with shorter name as pypi."
   ]
  },
  {
   "cell_type": "markdown",
   "id": "083b3680",
   "metadata": {},
   "source": [
    "3. How do you distinguish between inputInt() and inputFloat()?\n"
   ]
  },
  {
   "cell_type": "markdown",
   "id": "5b5ba366",
   "metadata": {},
   "source": [
    "Answer  :\n",
    "     \n",
    "        inputInt() is a function that asks users intergers and the return values will also be an integers.\n",
    "    \n",
    "        inputFloat() is a function that asks users float numbers and the return values will also be a float number."
   ]
  },
  {
   "cell_type": "markdown",
   "id": "7fbc6e94",
   "metadata": {},
   "source": [
    "4. Using PyInputPlus, how do you ensure that the user enters a whole number between 0 and 99?\n"
   ]
  },
  {
   "cell_type": "markdown",
   "id": "9ad66482",
   "metadata": {},
   "source": [
    "Answer  :\n",
    "    \n",
    "         PyIntPlus module provides a function called inputInt() which only returns integer values only.\n",
    "         \n",
    "         Here initialising the variables min and max to print the numbers in between 0 and 99.\n",
    "         \n",
    "         min = 0, max =99\n",
    " Syntax  :\n",
    "          \n",
    "          import PyintPlus as pypi\n",
    "          whole_number = pypi.inputInt()\n",
    "          print(whole_number)"
   ]
  },
  {
   "cell_type": "markdown",
   "id": "98abce18",
   "metadata": {},
   "source": [
    "5. What is transferred to the keyword arguments allowRegexes and blockRegexes"
   ]
  },
  {
   "cell_type": "markdown",
   "id": "9fd78239",
   "metadata": {},
   "source": [
    "Answer  :\n",
    "    \n",
    "         allowRegexes and blockRegexes keyword arguments to take list of regular expression strings to determine \n",
    "          \n",
    "         what the pyinputplus function will reject or accept valid input."
   ]
  },
  {
   "cell_type": "markdown",
   "id": "dd60f6cc",
   "metadata": {},
   "source": [
    "6. If a blank input is entered three times, what does inputStr(limit=3) do?\n"
   ]
  },
  {
   "cell_type": "markdown",
   "id": "7402be3d",
   "metadata": {},
   "source": [
    "Answer. :\n",
    "    \n",
    "        \n",
    "        The statement inputStr(limit=3) will throw two exceptions ValidationException and RetryLimitException.             \n",
    "        The first exception is thrown because blank values are not allowed by inputStr() function by default.       \n",
    "       \n",
    "        If we consider blank values as valid input, we have to set blank=True."
   ]
  },
  {
   "cell_type": "markdown",
   "id": "11a3aaf3",
   "metadata": {},
   "source": [
    "7. If blank input is entered three times, what does inputStr(limit=3, default='hello') do?"
   ]
  },
  {
   "cell_type": "markdown",
   "id": "4e4c142c",
   "metadata": {},
   "source": [
    "Answer  :\n",
    "    \n",
    "       Since the default parameter is set to hello. after blank input is entered three times instead of raising              \n",
    "       RetryLimitException exception. the function will return hello as response to the calling function."
   ]
  },
  {
   "cell_type": "code",
   "execution_count": null,
   "id": "9ced9f9a",
   "metadata": {},
   "outputs": [],
   "source": []
  }
 ],
 "metadata": {
  "kernelspec": {
   "display_name": "Python 3 (ipykernel)",
   "language": "python",
   "name": "python3"
  },
  "language_info": {
   "codemirror_mode": {
    "name": "ipython",
    "version": 3
   },
   "file_extension": ".py",
   "mimetype": "text/x-python",
   "name": "python",
   "nbconvert_exporter": "python",
   "pygments_lexer": "ipython3",
   "version": "3.9.7"
  }
 },
 "nbformat": 4,
 "nbformat_minor": 5
}
