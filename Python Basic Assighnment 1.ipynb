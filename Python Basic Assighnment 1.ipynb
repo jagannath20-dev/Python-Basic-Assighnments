{
 "cells": [
  {
   "cell_type": "markdown",
   "id": "f7c497b1",
   "metadata": {},
   "source": [
    "1. In the below elements which of them are values or an expression? eg:- values can be integer or string and expressions will be mathematical operators.\n",
    "a.  *\n",
    "b.  'hello''\n",
    "c.  -87.8\n",
    "d.  -\n",
    "e.  /\n",
    "f.  +\n",
    "g.  6"
   ]
  },
  {
   "cell_type": "markdown",
   "id": "e39702db",
   "metadata": {},
   "source": [
    "Answer :   Values are     -87.8 and 6 are int data type and  ‘hello’ is a string data type\n",
    "                   Mathematical operators or Expressions are : ( - , /,  +, *)  . These Expressions are also called Arithmetic Operators.\n"
   ]
  },
  {
   "cell_type": "markdown",
   "id": "b11f98fe",
   "metadata": {},
   "source": [
    "2. What is the difference between string and variable?\n",
    "\n",
    "\n",
    "Answer:\n",
    "\n",
    "    String :\n",
    "           String is a collection of characters, these characters can be alphabets, digits or special                             characters.String is a data type.\n",
    "           The string which consists only alphabets is called alphabetic string.\n",
    "           The string which consists of alphabets and digits is called alphanumeric string.\n",
    "           “str\" class or data type is used to create string object\n",
    "    \n",
    "    \n",
    "    Variable :\n",
    "           Variable is a name that is used to memory allocation.Python Variable is also known as an identifier to \n",
    "             hold  value.\n",
    "           Variables in Python can only contain  alpha-numeric characters and underscores(A-Z,0-9 and _).\n",
    "           It can hold any data type . It may be a string,  float, int and bool.  \n",
    "           A Variable Cannot start with a number\n",
    "           A Variable name must start with a letter or the underscore character"
   ]
  },
  {
   "cell_type": "markdown",
   "id": "542d297a",
   "metadata": {},
   "source": [
    "3. Describe three different data types.\n",
    "\n",
    "Answer:\n",
    "    \n",
    "Int Data Type:\n",
    "\n",
    "    Int data type is used to allocate  for integer values\n",
    "    It is a value without precision.\n",
    "    The integer can be  positive or negative values.\n",
    "    Integer data type reserve memory of unlimited length.\n",
    "\n",
    "Float Data Type:\n",
    "\n",
    "    This value is represented by float class.\n",
    "    It is a real number with floating point representation.\n",
    "    It is specified by a decimal point.\n",
    "\n",
    "Complex Number :\n",
    "\n",
    "   Complex number is represented by complex class.\n",
    "   \n",
    "   It is specified as real part and imaginary number.\n",
    "   \n",
    "   It is immutable type i.e after creating complex number it cannot modified real and imaginary numbers.\n"
   ]
  },
  {
   "cell_type": "markdown",
   "id": "112cbd42",
   "metadata": {},
   "source": [
    "4 . What is an expression made up of? What do all expressions do?\n",
    "\n",
    "Answer :\n",
    "\n",
    "     An Expression is a construct made-up of  variables, operators and  method invocations which are constructed            according to the syntax of the language, that evaluates to a single value.\n",
    "     Expressions are combination of values, and operators and always evaluate down to a single value"
   ]
  },
  {
   "cell_type": "markdown",
   "id": "360d623c",
   "metadata": {},
   "source": [
    "5. This assignment statements, like spam = 10. What is the difference between an expression and a statement?\n",
    "\n",
    "Answer :\n",
    "\n",
    "      Expression:\n",
    "            Evaluation of an expression always returns a result value.\n",
    "            Evaluation of a statement does not change state.\n",
    "            Every expression cannot be a statement\n",
    "      Statement:\n",
    "            Execution of statement may or may not produces a result value.\n",
    "            The execution of a statement changes state.\n",
    "            Every statement can be an expression"
   ]
  },
  {
   "cell_type": "markdown",
   "id": "6bc480be",
   "metadata": {},
   "source": [
    "6. After running the following code, what does the variable bacon contain?\n",
    "\n",
    "bacon = 22\n",
    "\n",
    "bacon + 1\n"
   ]
  },
  {
   "cell_type": "code",
   "execution_count": 1,
   "id": "15c2e6d1",
   "metadata": {},
   "outputs": [
    {
     "name": "stdout",
     "output_type": "stream",
     "text": [
      "23\n"
     ]
    }
   ],
   "source": [
    "bacon = 22\n",
    "bacon = bacon+1\n",
    "print(bacon)"
   ]
  },
  {
   "cell_type": "markdown",
   "id": "e8ce5fcd",
   "metadata": {},
   "source": [
    "7. What should the values of the following two terms be?\n",
    "\n",
    "'spam' + 'spamspam'\n",
    "\n",
    "'spam' * 3\n"
   ]
  },
  {
   "cell_type": "code",
   "execution_count": 2,
   "id": "de62b273",
   "metadata": {},
   "outputs": [
    {
     "name": "stdout",
     "output_type": "stream",
     "text": [
      "spamspamspam\n",
      "spamspamspam\n"
     ]
    }
   ],
   "source": [
    "x = 'spam'+'spamspam'\n",
    "y = 'spam'*3\n",
    "print(x)\n",
    "print(y)"
   ]
  },
  {
   "cell_type": "markdown",
   "id": "def7ddf8",
   "metadata": {},
   "source": [
    "8. Why is eggs a valid variable name while 100 is invalid?\n",
    "\n",
    "Answer : \n",
    "\n",
    "      Variable names should be start with alphabets and not with numbers and special characters. \n",
    "      Variables must be start with letters and special character (_) called underscore.\n",
    "      No spaces are allowed between words while creating variables\n"
   ]
  },
  {
   "cell_type": "markdown",
   "id": "bc40521e",
   "metadata": {},
   "source": [
    "9. What three functions can be used to get the integer, floating-point number, or string version of a value?\n",
    "\n",
    "Answer : \n",
    "    \n",
    "    The int(), float(), and str() functions will evaluate to the integer, floating-point number, and string versions of the value passed to them.\n",
    "    To get integer  value we use the function called int() and it is a type conversion function.\n",
    "    To get float value we use the function called float() and it is a type conversion function.\n",
    "    To get string  we use the function called str() and it is a type conversion function.\n"
   ]
  },
  {
   "cell_type": "markdown",
   "id": "8bc2b94d",
   "metadata": {},
   "source": [
    "10. Why does this expression cause an error? How can you fix it?\n",
    "'I have eaten ' + 99 + ' burritos.’\n",
    "\n",
    "Answer :\n",
    "         \n",
    "         This is a string and it having integer value.we need to concatenate string with integer values then\n",
    "         we don’t get error.By type conversion function, convert int to str by str(99) .\n",
    "         \"I have eaten \" + \"  “ +  str(99)  + “ “ + “burritos”.\n",
    "         \n",
    "        Output :\n",
    "         I have eaten 99 burritos."
   ]
  },
  {
   "cell_type": "code",
   "execution_count": 5,
   "id": "511b06b5",
   "metadata": {},
   "outputs": [
    {
     "ename": "SyntaxError",
     "evalue": "invalid syntax (3187786409.py, line 2)",
     "output_type": "error",
     "traceback": [
      "\u001b[0;36m  File \u001b[0;32m\"/var/folders/z7/qth8mz354rn7bm3cdy_lz4800000gn/T/ipykernel_1782/3187786409.py\"\u001b[0;36m, line \u001b[0;32m2\u001b[0m\n\u001b[0;31m    x = 'I have eaten'+99+'burritoes'.\u001b[0m\n\u001b[0m                                      ^\u001b[0m\n\u001b[0;31mSyntaxError\u001b[0m\u001b[0;31m:\u001b[0m invalid syntax\n"
     ]
    }
   ],
   "source": [
    "### As per question we get an error while we do this.\n",
    "x = 'I have eaten'+99+'burritoes'.\n",
    "print(x)"
   ]
  },
  {
   "cell_type": "code",
   "execution_count": 9,
   "id": "045fa77d",
   "metadata": {},
   "outputs": [
    {
     "name": "stdout",
     "output_type": "stream",
     "text": [
      "I have eaten 99 burritoes\n"
     ]
    }
   ],
   "source": [
    "### To avoid an error given in the above question the code written below\n",
    "y = 'I have eaten' + ' ' + str(99) + ' '+'burritoes'\n",
    "print(y)"
   ]
  },
  {
   "cell_type": "code",
   "execution_count": null,
   "id": "35f36f1b",
   "metadata": {},
   "outputs": [],
   "source": []
  }
 ],
 "metadata": {
  "kernelspec": {
   "display_name": "Python 3 (ipykernel)",
   "language": "python",
   "name": "python3"
  },
  "language_info": {
   "codemirror_mode": {
    "name": "ipython",
    "version": 3
   },
   "file_extension": ".py",
   "mimetype": "text/x-python",
   "name": "python",
   "nbconvert_exporter": "python",
   "pygments_lexer": "ipython3",
   "version": "3.9.7"
  }
 },
 "nbformat": 4,
 "nbformat_minor": 5
}
