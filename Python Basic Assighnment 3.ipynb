{
 "cells": [
  {
   "cell_type": "markdown",
   "id": "eef29d46",
   "metadata": {},
   "source": [
    "1. Why are functions advantageous to have in your programs?"
   ]
  },
  {
   "cell_type": "markdown",
   "id": "a0d2dbb1",
   "metadata": {},
   "source": [
    "Answer  :\n",
    "    \n",
    "         Functions reduce the need for duplicate code. This makes programs shorter, easier to read, and easier to update. The main advantage of functions is code Reusability."
   ]
  },
  {
   "cell_type": "markdown",
   "id": "5433ab34",
   "metadata": {},
   "source": [
    "2. When does the code in a function run: when it's specified or when it's called?\n"
   ]
  },
  {
   "cell_type": "markdown",
   "id": "cfba88db",
   "metadata": {},
   "source": [
    "Answer :\n",
    "    \n",
    "      The code in a function executes when the function is called, not when the function is specified."
   ]
  },
  {
   "cell_type": "markdown",
   "id": "8f45d001",
   "metadata": {},
   "source": [
    "3. What statement creates a function?"
   ]
  },
  {
   "cell_type": "markdown",
   "id": "e0a0fc66",
   "metadata": {},
   "source": [
    "Answer :\n",
    "    \n",
    "     The def statement defines a function\n",
    "\n",
    "Syntax of Function:\n",
    "\n",
    "def function_name(parameters):\n",
    "\n",
    "    \"\"\"doc string\"\"\"          \n",
    "    -----function body-----\n",
    "    -----function body-----\n",
    "    return value\n",
    "\n"
   ]
  },
  {
   "cell_type": "markdown",
   "id": "fddb3192",
   "metadata": {},
   "source": [
    "4. What is the difference between a function and a function call?"
   ]
  },
  {
   "cell_type": "markdown",
   "id": "7a0bef4c",
   "metadata": {},
   "source": [
    "Answer :\n",
    "    \n",
    "     A function is procedure to achieve a particular result. while function call is using this function to achive that task. Using a function to do a particular task any point in program is called as function call.\n",
    "\n"
   ]
  },
  {
   "cell_type": "markdown",
   "id": "ebba2231",
   "metadata": {},
   "source": [
    "5. How many global scopes are there in a Python program? How many local scopes?\n"
   ]
  },
  {
   "cell_type": "markdown",
   "id": "686347d4",
   "metadata": {},
   "source": [
    "Answer  :\n",
    "     \n",
    "         There is one global scope, and a local scope is created whenever a function is called.\n",
    "\n"
   ]
  },
  {
   "cell_type": "markdown",
   "id": "16a066b2",
   "metadata": {},
   "source": [
    "6. What happens to variables in a local scope when the function call returns?\n"
   ]
  },
  {
   "cell_type": "markdown",
   "id": "bc572e3f",
   "metadata": {},
   "source": [
    "Answer.\n",
    "\n",
    "     When a function returns, the local scope is destroyed, and all the variables in it are forgotten."
   ]
  },
  {
   "cell_type": "markdown",
   "id": "321a15ab",
   "metadata": {},
   "source": [
    "7. What is the concept of a return value? Is it possible to have a return value in an expression?"
   ]
  },
  {
   "cell_type": "markdown",
   "id": "48df0135",
   "metadata": {},
   "source": [
    "Answer  :\n",
    "    \n",
    "       A return value is the value that a function call evaluates to. Like any value, a return value can be \n",
    "       used as  part of an expression.\n",
    "\n"
   ]
  },
  {
   "cell_type": "markdown",
   "id": "8076112b",
   "metadata": {},
   "source": [
    "8. If a function does not have a return statement, what is the return value of a call to that function?"
   ]
  },
  {
   "cell_type": "markdown",
   "id": "601a088d",
   "metadata": {},
   "source": [
    "Answer  :\n",
    "    \n",
    "      If there is no return statement for a function, its return value is None."
   ]
  },
  {
   "cell_type": "markdown",
   "id": "84651bec",
   "metadata": {},
   "source": [
    "9. How do you make a function variable refer to the global variable?"
   ]
  },
  {
   "cell_type": "markdown",
   "id": "65f8b57a",
   "metadata": {},
   "source": [
    "Answer  :\n",
    "    \n",
    "      A global statement will force a variable in a function to refer to the global variable. If you want \n",
    "      to refer to a global variable in a function, you can use the global keyword to declare which \n",
    "      variables are global."
   ]
  },
  {
   "cell_type": "markdown",
   "id": "a7b58dec",
   "metadata": {},
   "source": [
    "10. What is the data type of None?"
   ]
  },
  {
   "cell_type": "markdown",
   "id": "bb17b095",
   "metadata": {},
   "source": [
    "Answer  :\n",
    "    \n",
    "      The data type of None is NoneType."
   ]
  },
  {
   "cell_type": "markdown",
   "id": "c1c89b2b",
   "metadata": {},
   "source": [
    "11. What does the sentence import areallyourpetsnamederic do?"
   ]
  },
  {
   "cell_type": "markdown",
   "id": "0f017848",
   "metadata": {},
   "source": [
    "Answer  :\n",
    "    \n",
    "     That import statement imports a module named areallyourpetsnamederic."
   ]
  },
  {
   "cell_type": "markdown",
   "id": "42145c0c",
   "metadata": {},
   "source": [
    "12. If you had a bacon() feature in a spam module, what would you call it after importing spam?"
   ]
  },
  {
   "cell_type": "markdown",
   "id": "7436a16a",
   "metadata": {},
   "source": [
    "Answer :\n",
    "    \n",
    "      This function can be called with spam.bacon()."
   ]
  },
  {
   "cell_type": "markdown",
   "id": "52b5d87e",
   "metadata": {},
   "source": [
    "13. What can you do to save a programme from crashing if it encounters an error?"
   ]
  },
  {
   "cell_type": "markdown",
   "id": "66839951",
   "metadata": {},
   "source": [
    "Answer  :\n",
    "    \n",
    "      Place the line of code that might cause an error in a try clause and use except block to handle the error."
   ]
  },
  {
   "cell_type": "markdown",
   "id": "e4aa53e5",
   "metadata": {},
   "source": [
    "14. What is the purpose of the try clause? What is the purpose of the except clause?"
   ]
  },
  {
   "cell_type": "markdown",
   "id": "d5a0c986",
   "metadata": {},
   "source": [
    "Answer  :\n",
    "    \n",
    "       The code that could potentially cause an error goes in the try clause. The code that executes if \n",
    "       an error happens goes in the except clause."
   ]
  },
  {
   "cell_type": "code",
   "execution_count": null,
   "id": "008e40d9",
   "metadata": {},
   "outputs": [],
   "source": []
  }
 ],
 "metadata": {
  "kernelspec": {
   "display_name": "Python 3 (ipykernel)",
   "language": "python",
   "name": "python3"
  },
  "language_info": {
   "codemirror_mode": {
    "name": "ipython",
    "version": 3
   },
   "file_extension": ".py",
   "mimetype": "text/x-python",
   "name": "python",
   "nbconvert_exporter": "python",
   "pygments_lexer": "ipython3",
   "version": "3.9.7"
  }
 },
 "nbformat": 4,
 "nbformat_minor": 5
}
