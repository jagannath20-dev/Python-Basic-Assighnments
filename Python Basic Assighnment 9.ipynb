{
 "cells": [
  {
   "cell_type": "markdown",
   "id": "535f0f67",
   "metadata": {},
   "source": [
    "1. To what does a relative path refer?"
   ]
  },
  {
   "cell_type": "markdown",
   "id": "c8b35e90",
   "metadata": {},
   "source": [
    "Answer :\n",
    "    \n",
    "        os.path.relpath() method in Python is used to get a relative filepath to the given path either from the current working directory or from the given directory.\n",
    "\n",
    "Note: \n",
    "     \n",
    "     This method only computes the relative path. The existence of the given path or directory is not checked.\n",
    "\n",
    "Syntax :\n",
    "\n",
    "        os.path.relpath(path, start = os.curdir)"
   ]
  },
  {
   "cell_type": "markdown",
   "id": "98967fdc",
   "metadata": {},
   "source": [
    "2. What does an absolute path start with your operating system?"
   ]
  },
  {
   "cell_type": "markdown",
   "id": "0bb9ce24",
   "metadata": {},
   "source": [
    "Answer  :\n",
    "        \n",
    "        An absolute path is defined as the specifying the location of a file or directory from the root directory(/).\n",
    "        \n",
    "        To write an absolute path-name:\n",
    "\n",
    "        Start at the root directory ( / ) and work down.\n",
    "        \n",
    "        Write a slash ( / ) after every directory name."
   ]
  },
  {
   "cell_type": "markdown",
   "id": "bd99d644",
   "metadata": {},
   "source": [
    "3. What do the functions os.getcwd() and os.chdir() do?"
   ]
  },
  {
   "cell_type": "markdown",
   "id": "fe635a86",
   "metadata": {},
   "source": [
    "Answer  :\n",
    "         \n",
    "        os.getcwd() function of code gives the current working directory path of the location..\n",
    "        \n",
    "        os.chdir() function changes the directory path of the loaction."
   ]
  },
  {
   "cell_type": "markdown",
   "id": "c47decba",
   "metadata": {},
   "source": [
    "4. What are the . and .. folders?"
   ]
  },
  {
   "cell_type": "markdown",
   "id": "e4e22609",
   "metadata": {},
   "source": [
    "Answer  :\n",
    "    \n",
    "          . represents the current working directory.\n",
    "        \n",
    "          .. represents the current parent directory."
   ]
  },
  {
   "cell_type": "markdown",
   "id": "2ad2dc1b",
   "metadata": {},
   "source": [
    "5. In C:\\bacon\\eggs\\spam.txt, which part is the dir name, and which part is the base name?"
   ]
  },
  {
   "cell_type": "markdown",
   "id": "52d9233e",
   "metadata": {},
   "source": [
    "Answer  :\n",
    "    \n",
    "        C:\\bacon\\eggs is the dir name and spam.txt is the base name."
   ]
  },
  {
   "cell_type": "markdown",
   "id": "f5db8b5c",
   "metadata": {},
   "source": [
    "6. What are the three “mode” arguments that can be passed to the open() function?"
   ]
  },
  {
   "cell_type": "markdown",
   "id": "e6c57617",
   "metadata": {},
   "source": [
    "Answer  :\n",
    "\n",
    "\n",
    "        A file can be Accessed in python using open() function. open function takes two arguments filename and mode \n",
    "        of operation (optional). if mode is not provided the default mode of opening is read mode\n",
    "        So, the syntax being: open(filename, mode).\n",
    "        The string 'r' for read mode, 'w' for write mode, and 'a' for append mode."
   ]
  },
  {
   "cell_type": "markdown",
   "id": "cba15ca2",
   "metadata": {},
   "source": [
    "7. What happens if an existing file is opened in write mode?"
   ]
  },
  {
   "cell_type": "markdown",
   "id": "283e20b1",
   "metadata": {},
   "source": [
    "Answer  :\n",
    "    \n",
    "         An existing file opened in write mode is erased and completely overwritten."
   ]
  },
  {
   "cell_type": "markdown",
   "id": "15bd1800",
   "metadata": {},
   "source": [
    "8. How do you tell the difference between read() and readlines()?\n"
   ]
  },
  {
   "cell_type": "markdown",
   "id": "64f17267",
   "metadata": {},
   "source": [
    "Answer  :\n",
    "    \n",
    "        The read() method returns the file's entire contents as a single string value. The readlines() method \n",
    "        returns a list of strings, where each string is a line from the file's contents."
   ]
  },
  {
   "cell_type": "markdown",
   "id": "12d14ccf",
   "metadata": {},
   "source": [
    "9. What data structure does a shelf value resemble?"
   ]
  },
  {
   "cell_type": "markdown",
   "id": "c1e9f092",
   "metadata": {},
   "source": [
    "Answer :\n",
    "    \n",
    "       A shelf value resembles a dictionary value; it has keys and values, along with keys() and values() methods \n",
    "       that  work similarly to the dictionary methods of the same names."
   ]
  },
  {
   "cell_type": "code",
   "execution_count": null,
   "id": "c1b0c44c",
   "metadata": {},
   "outputs": [],
   "source": []
  }
 ],
 "metadata": {
  "kernelspec": {
   "display_name": "Python 3 (ipykernel)",
   "language": "python",
   "name": "python3"
  },
  "language_info": {
   "codemirror_mode": {
    "name": "ipython",
    "version": 3
   },
   "file_extension": ".py",
   "mimetype": "text/x-python",
   "name": "python",
   "nbconvert_exporter": "python",
   "pygments_lexer": "ipython3",
   "version": "3.9.7"
  }
 },
 "nbformat": 4,
 "nbformat_minor": 5
}
