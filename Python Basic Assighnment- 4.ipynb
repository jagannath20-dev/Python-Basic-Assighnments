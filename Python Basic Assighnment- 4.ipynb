{
 "cells": [
  {
   "cell_type": "markdown",
   "id": "0260ccaf",
   "metadata": {},
   "source": [
    "1. What exactly is []?"
   ]
  },
  {
   "cell_type": "markdown",
   "id": "70c29f52",
   "metadata": {},
   "source": [
    "Answer: \n",
    "    \n",
    "[] is an empty list.\n",
    "\n",
    "In python list is created by placing elements inside square brackets [], seperated by commas.\n",
    "\n",
    "A list can have any number of items and they may be different data types."
   ]
  },
  {
   "cell_type": "markdown",
   "id": "83f590cc",
   "metadata": {},
   "source": [
    "2. In a list of values stored in a variable called spam, how would you assign the value 'hello' as the third value? (Assume [2, 4, 6, 8, 10] are in spam.)?"
   ]
  },
  {
   "cell_type": "markdown",
   "id": "a3698844",
   "metadata": {},
   "source": [
    "Answer :\n",
    "\n",
    "By Assumption list called spam = [2,4,6,8,10] having variables [2,4,6,8,10] \n",
    "\n",
    "list index start with 0,1,2,.....etc .\n",
    "\n",
    "Here spam[0] = 2, spam[1] = 4, spam[2] = 6, spam[3] = 8, spam[4] = 10\n",
    "\n",
    "we can change the list value by using index spam[2] == 'hello'"
   ]
  },
  {
   "cell_type": "code",
   "execution_count": 2,
   "id": "b1a8374b",
   "metadata": {},
   "outputs": [
    {
     "name": "stdout",
     "output_type": "stream",
     "text": [
      "[2, 4, 'hello', 8, 10]\n"
     ]
    }
   ],
   "source": [
    "### Code\n",
    "spam = [2,4,6,8,10]\n",
    "spam[2] = 'hello'\n",
    "print(spam)"
   ]
  },
  {
   "cell_type": "markdown",
   "id": "3ef1a56d",
   "metadata": {},
   "source": [
    "Let's pretend the spam includes the list ['a', 'b', 'c', 'd'] for the next three queries.\n",
    "\n",
    "3. What is the value of spam[int(int('3' * 2) / 11)]?"
   ]
  },
  {
   "cell_type": "code",
   "execution_count": 4,
   "id": "bec0d013",
   "metadata": {},
   "outputs": [
    {
     "data": {
      "text/plain": [
       "'d'"
      ]
     },
     "execution_count": 4,
     "metadata": {},
     "output_type": "execute_result"
    }
   ],
   "source": [
    "### Answer :\n",
    "    \n",
    "spam = ['a','b','c','d']\n",
    "spam[int(int('3'*2)/11)]"
   ]
  },
  {
   "cell_type": "markdown",
   "id": "ef356f49",
   "metadata": {},
   "source": [
    "4. What is the value of spam[-1]?"
   ]
  },
  {
   "cell_type": "code",
   "execution_count": 5,
   "id": "903cb4ae",
   "metadata": {},
   "outputs": [
    {
     "data": {
      "text/plain": [
       "'d'"
      ]
     },
     "execution_count": 5,
     "metadata": {},
     "output_type": "execute_result"
    }
   ],
   "source": [
    "### Answer :\n",
    "spam = ['a','b','c','d']\n",
    "spam[-1]"
   ]
  },
  {
   "cell_type": "markdown",
   "id": "cce708fe",
   "metadata": {},
   "source": [
    "5. What is the value of spam[:2]?\n"
   ]
  },
  {
   "cell_type": "code",
   "execution_count": 6,
   "id": "295cc79c",
   "metadata": {},
   "outputs": [
    {
     "data": {
      "text/plain": [
       "['a', 'b']"
      ]
     },
     "execution_count": 6,
     "metadata": {},
     "output_type": "execute_result"
    }
   ],
   "source": [
    "spam = ['a','b','c','d']\n",
    "spam[:2]"
   ]
  },
  {
   "cell_type": "markdown",
   "id": "3c371613",
   "metadata": {},
   "source": [
    "Let's pretend bacon has the list [3.14, 'cat,' 11, 'cat,' True] for the next three questions."
   ]
  },
  {
   "cell_type": "markdown",
   "id": "c15ad805",
   "metadata": {},
   "source": [
    "6. What is the value of bacon.index('cat')?\n"
   ]
  },
  {
   "cell_type": "code",
   "execution_count": 7,
   "id": "a042c194",
   "metadata": {},
   "outputs": [
    {
     "data": {
      "text/plain": [
       "1"
      ]
     },
     "execution_count": 7,
     "metadata": {},
     "output_type": "execute_result"
    }
   ],
   "source": [
    "bacon = [3.14,'cat',11,'cat','True']\n",
    "bacon.index('cat')"
   ]
  },
  {
   "cell_type": "markdown",
   "id": "f608706b",
   "metadata": {},
   "source": [
    "7. How does bacon.append(99) change the look of the list value in bacon?\n"
   ]
  },
  {
   "cell_type": "code",
   "execution_count": 9,
   "id": "b19af3f4",
   "metadata": {},
   "outputs": [
    {
     "name": "stdout",
     "output_type": "stream",
     "text": [
      "[3.14, 'cat', 11, 'cat', 'True', 99]\n"
     ]
    }
   ],
   "source": [
    "bacon = [3.14,'cat',11,'cat','True']\n",
    "bacon.append(99)\n",
    "print(bacon)"
   ]
  },
  {
   "cell_type": "markdown",
   "id": "6e833c1d",
   "metadata": {},
   "source": [
    "8. How does bacon.remove('cat') change the look of the list in bacon?\n"
   ]
  },
  {
   "cell_type": "code",
   "execution_count": 10,
   "id": "ff3765ee",
   "metadata": {},
   "outputs": [
    {
     "name": "stdout",
     "output_type": "stream",
     "text": [
      "[3.14, 11, 'cat', 'True']\n"
     ]
    }
   ],
   "source": [
    "bacon = [3.14,'cat',11,'cat','True']\n",
    "bacon.remove('cat')\n",
    "print(bacon)"
   ]
  },
  {
   "cell_type": "markdown",
   "id": "dcbbe043",
   "metadata": {},
   "source": [
    "9. What are the list concatenation and list replication operators?\n"
   ]
  },
  {
   "cell_type": "markdown",
   "id": "99255630",
   "metadata": {},
   "source": [
    "Answer :\n",
    "     \n",
    "        The operator for list concatenation is '+' while the operator for list replication is '*'."
   ]
  },
  {
   "cell_type": "markdown",
   "id": "de8c9288",
   "metadata": {},
   "source": [
    "10. What is difference between the list methods append() and insert()?\n"
   ]
  },
  {
   "cell_type": "markdown",
   "id": "d02ef885",
   "metadata": {},
   "source": [
    "The only difference between insert() and append() is that insert() function allows us to add a specific value at any  specified index of the list unlike append() function where append() function can only add elements at the end of the list."
   ]
  },
  {
   "cell_type": "markdown",
   "id": "0edf1504",
   "metadata": {},
   "source": [
    "11. What are the two methods for removing items from a list?\n"
   ]
  },
  {
   "cell_type": "markdown",
   "id": "20de90cc",
   "metadata": {},
   "source": [
    "Answer : \n",
    "    \n",
    "      By using remove() method.\n",
    "      By using pop() method"
   ]
  },
  {
   "cell_type": "code",
   "execution_count": 11,
   "id": "0dca75e0",
   "metadata": {},
   "outputs": [
    {
     "name": "stdout",
     "output_type": "stream",
     "text": [
      "[3.14, 11, 'cat', 'True']\n"
     ]
    }
   ],
   "source": [
    "bacon = [3.14,'cat',11,'cat','True']\n",
    "bacon.remove('cat')\n",
    "print(bacon)"
   ]
  },
  {
   "cell_type": "code",
   "execution_count": 12,
   "id": "169cfbe5",
   "metadata": {},
   "outputs": [
    {
     "name": "stdout",
     "output_type": "stream",
     "text": [
      "[3.14, 'cat', 11, 'cat']\n"
     ]
    }
   ],
   "source": [
    "bacon = [3.14,'cat',11,'cat','True']\n",
    "bacon.pop()\n",
    "print(bacon)"
   ]
  },
  {
   "cell_type": "markdown",
   "id": "ed5dfdd1",
   "metadata": {},
   "source": [
    "12. Describe how list values and string values are identical.\n"
   ]
  },
  {
   "cell_type": "markdown",
   "id": "abda42f7",
   "metadata": {},
   "source": [
    "Answer :\n",
    "\n",
    "       Both lists and strings can be passed to len()\n",
    "       List have indexes and strings have slices\n",
    "       Can be used in for loops\n",
    "       Can be concatenated or replicated\n",
    "       Can be used with the in and not in operators"
   ]
  },
  {
   "cell_type": "markdown",
   "id": "a451b16c",
   "metadata": {},
   "source": [
    "13. What's the difference between tuples and lists"
   ]
  },
  {
   "cell_type": "markdown",
   "id": "72630082",
   "metadata": {},
   "source": [
    "Tuples :\n",
    "     \n",
    "        Tuples are immutable i.e if once tuple is created that elements in the tuple should not be removed and also           not possible to append the elements to the tuple.\n",
    "        Tuples are created by using ()\n",
    "        \n",
    "Lists  :\n",
    "\n",
    "       List are mutable i.e list elements can be changed,removed,append.\n",
    "       List is created by using []"
   ]
  },
  {
   "cell_type": "markdown",
   "id": "1aae4dee",
   "metadata": {},
   "source": [
    "14. How do you type a tuple value that only contains the integer 42?\n"
   ]
  },
  {
   "cell_type": "code",
   "execution_count": 14,
   "id": "1925f0dd",
   "metadata": {},
   "outputs": [
    {
     "name": "stdout",
     "output_type": "stream",
     "text": [
      "42\n"
     ]
    }
   ],
   "source": [
    "tuple1 = (42)\n",
    "print(tuple1)"
   ]
  },
  {
   "cell_type": "markdown",
   "id": "56579844",
   "metadata": {},
   "source": [
    "15. How do you get a list value's tuple form? How do you get a tuple value's list form?\n"
   ]
  },
  {
   "cell_type": "code",
   "execution_count": 15,
   "id": "64d4a06c",
   "metadata": {},
   "outputs": [
    {
     "name": "stdout",
     "output_type": "stream",
     "text": [
      "(2, 3)\n"
     ]
    }
   ],
   "source": [
    "list1 = [2,3]\n",
    "tuple1 = tuple(list1)\n",
    "print(tuple1)"
   ]
  },
  {
   "cell_type": "code",
   "execution_count": 16,
   "id": "2bf9bb7d",
   "metadata": {},
   "outputs": [
    {
     "name": "stdout",
     "output_type": "stream",
     "text": [
      "[4, 5]\n"
     ]
    }
   ],
   "source": [
    "tuple1 = (4,5)\n",
    "list1 = list(tuple1)\n",
    "print(list1)"
   ]
  },
  {
   "cell_type": "markdown",
   "id": "ab7e2f2f",
   "metadata": {},
   "source": [
    "16. Variables that \"contain\" list values are not necessarily lists themselves. Instead, what do they contain?\n"
   ]
  },
  {
   "cell_type": "markdown",
   "id": "9309e820",
   "metadata": {},
   "source": [
    "Answer :\n",
    "\n",
    " \n",
    "      They contain references to list values."
   ]
  },
  {
   "cell_type": "markdown",
   "id": "9297db76",
   "metadata": {},
   "source": [
    "17. How do you distinguish between copy.copy() and copy.deepcopy()?\n"
   ]
  },
  {
   "cell_type": "markdown",
   "id": "f0cc843a",
   "metadata": {},
   "source": [
    "Answer :\n",
    "\n",
    "      The copy.copy() function will do a shallow copy of a list, while the copy.deepcopy() function will do a deep           copy of a list. That is, only copy.deepcopy() will duplicate any lists inside the list."
   ]
  },
  {
   "cell_type": "code",
   "execution_count": null,
   "id": "23d1e7e1",
   "metadata": {},
   "outputs": [],
   "source": []
  }
 ],
 "metadata": {
  "kernelspec": {
   "display_name": "Python 3 (ipykernel)",
   "language": "python",
   "name": "python3"
  },
  "language_info": {
   "codemirror_mode": {
    "name": "ipython",
    "version": 3
   },
   "file_extension": ".py",
   "mimetype": "text/x-python",
   "name": "python",
   "nbconvert_exporter": "python",
   "pygments_lexer": "ipython3",
   "version": "3.9.7"
  }
 },
 "nbformat": 4,
 "nbformat_minor": 5
}
