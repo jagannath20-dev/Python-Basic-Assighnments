{
 "cells": [
  {
   "cell_type": "markdown",
   "id": "5af0201f",
   "metadata": {},
   "source": [
    "1.What are the two values of the Boolean data type? How do you write them?"
   ]
  },
  {
   "cell_type": "markdown",
   "id": "d88a7d9d",
   "metadata": {},
   "source": [
    "Answer :\n",
    "\n",
    "        Boolean data type is built-in  data type provided by python whoch represents two values i.e True and False.\n",
    "        Generally, it is used to represent the truth  values of the expressions.\n",
    "        It represenrs True as 1(one) and False represents as 0(zero)."
   ]
  },
  {
   "cell_type": "markdown",
   "id": "8ac1a5ee",
   "metadata": {},
   "source": [
    "Examples :"
   ]
  },
  {
   "cell_type": "code",
   "execution_count": 1,
   "id": "5da3d3e5",
   "metadata": {},
   "outputs": [
    {
     "name": "stdout",
     "output_type": "stream",
     "text": [
      "<class 'bool'>\n"
     ]
    }
   ],
   "source": [
    "a = True\n",
    "print(type(a))"
   ]
  },
  {
   "cell_type": "code",
   "execution_count": 2,
   "id": "b750164f",
   "metadata": {},
   "outputs": [
    {
     "name": "stdout",
     "output_type": "stream",
     "text": [
      "<class 'bool'>\n"
     ]
    }
   ],
   "source": [
    "b = False\n",
    "print(type(b))"
   ]
  },
  {
   "cell_type": "markdown",
   "id": "abbcf3bb",
   "metadata": {},
   "source": [
    "2. What are the three different types of Boolean operators?"
   ]
  },
  {
   "cell_type": "markdown",
   "id": "96a2ab7e",
   "metadata": {},
   "source": [
    "Answer :\n",
    "\n",
    "        Boolean operations are simple arithmetic of True and False values.\n",
    "        These values can be manipulated by the use of boolean operators which include AND, Or and not\n",
    "        \n",
    "        \n",
    "3. Make a list of each Boolean operator's truth tables (i.e. every possible combination of Boolean values for the operator and what it evaluate ).\n",
    "\n",
    "       \n",
    " Truth Tables Using AND Operator :\n",
    "    \n",
    "  A                             B                      A and B\n",
    "  \n",
    "  True                          True                   True\n",
    " \n",
    "  True                          False                  False\n",
    "  \n",
    "  False                         True                   False\n",
    "  \n",
    "  False                         False                  False\n",
    "  \n",
    " Truth Tables Using Or Operator\n",
    " \n",
    " A                               B                      A or B\n",
    " \n",
    " True                            True                   True\n",
    " \n",
    " True                            False                  True\n",
    " \n",
    " False                           True                   True\n",
    " \n",
    " False                           False                  False\n",
    " \n",
    " Truth Table Using Not Operator\n",
    "\n",
    "A                    Not A\n",
    "   \n",
    "True                 False\n",
    "\n",
    "False                True    "
   ]
  },
  {
   "cell_type": "markdown",
   "id": "d4e954a3",
   "metadata": {},
   "source": [
    "4. What are the values of the following expressions?\n",
    "\n",
    "(5 > 4) and (3 == 5)\n",
    "\n",
    "not (5 > 4\n",
    ")\n",
    "(5 > 4) or (3 == 5)\n",
    "\n",
    "not ((5 > 4) or (3 == 5))\n",
    "\n",
    "(True and True) and (True == False)\n",
    "\n",
    "(not False) or (not True)"
   ]
  },
  {
   "cell_type": "markdown",
   "id": "832f0aac",
   "metadata": {},
   "source": [
    "Answer :\n",
    "\n",
    "     Input:\n",
    "     5 > 4 and 3==5\n",
    "     \n",
    "     Output:\n",
    "     Flase\n",
    "     \n",
    "     Input:\n",
    "     not(5 > 4) or (3==5)\n",
    "     \n",
    "     Output:\n",
    "     False\n",
    "     \n",
    "     Input:\n",
    "     not((5>4) or (3==5))\n",
    "     \n",
    "     Output:\n",
    "     False\n",
    "     \n",
    "     Input:\n",
    "     (True and True) and (True == False)\n",
    "     Output:\n",
    "     False\n",
    "     \n",
    "     Input:\n",
    "     (not False) or (not True)\n",
    "     Output:\n",
    "     Tr\n",
    "      \n"
   ]
  },
  {
   "cell_type": "code",
   "execution_count": 3,
   "id": "68e44f29",
   "metadata": {},
   "outputs": [
    {
     "data": {
      "text/plain": [
       "False"
      ]
     },
     "execution_count": 3,
     "metadata": {},
     "output_type": "execute_result"
    }
   ],
   "source": [
    "5>4 and 3==5"
   ]
  },
  {
   "cell_type": "code",
   "execution_count": 4,
   "id": "e5022a0a",
   "metadata": {},
   "outputs": [
    {
     "data": {
      "text/plain": [
       "False"
      ]
     },
     "execution_count": 4,
     "metadata": {},
     "output_type": "execute_result"
    }
   ],
   "source": [
    "not(5>4) or (3==5)"
   ]
  },
  {
   "cell_type": "code",
   "execution_count": 5,
   "id": "9d6ab7e5",
   "metadata": {},
   "outputs": [
    {
     "data": {
      "text/plain": [
       "False"
      ]
     },
     "execution_count": 5,
     "metadata": {},
     "output_type": "execute_result"
    }
   ],
   "source": [
    "not(5>4) or (3==5)"
   ]
  },
  {
   "cell_type": "code",
   "execution_count": 6,
   "id": "a4184946",
   "metadata": {},
   "outputs": [
    {
     "data": {
      "text/plain": [
       "False"
      ]
     },
     "execution_count": 6,
     "metadata": {},
     "output_type": "execute_result"
    }
   ],
   "source": [
    "(True and True) and (True == False)"
   ]
  },
  {
   "cell_type": "code",
   "execution_count": 7,
   "id": "cd3726ad",
   "metadata": {},
   "outputs": [
    {
     "data": {
      "text/plain": [
       "True"
      ]
     },
     "execution_count": 7,
     "metadata": {},
     "output_type": "execute_result"
    }
   ],
   "source": [
    "(not False) or (not True)"
   ]
  },
  {
   "cell_type": "markdown",
   "id": "9d889988",
   "metadata": {},
   "source": [
    "5. What are the six comparison operators?"
   ]
  },
  {
   "cell_type": "markdown",
   "id": "47f4a4d1",
   "metadata": {},
   "source": [
    "Answer :\n",
    "       \n",
    "        Python has six comparision operators which are as follows \n",
    "        1. Eqaul to(==)\n",
    "        2. Less than(<)\n",
    "        3. Greater than(>)\n",
    "        4. Less than or Equal to(<=)\n",
    "        5. Greater than or Equal to(>=)\n",
    "        6. Not Equal to(!=)"
   ]
  },
  {
   "cell_type": "markdown",
   "id": "7a0bf43f",
   "metadata": {},
   "source": [
    "6. How do you tell the difference between the equal to and assignment operators?Describe a condition and when you would use one."
   ]
  },
  {
   "cell_type": "markdown",
   "id": "31a16e57",
   "metadata": {},
   "source": [
    "Answer :\n",
    "       \n",
    "        The \"=\"is an assighnment operator which is used to assign a value on the right to the variable on the left.\n",
    "        The \"==\" operator checks whether the given condition is equal or not.\n",
    "        If so returns True. Otherwise, it returns false"
   ]
  },
  {
   "cell_type": "code",
   "execution_count": 8,
   "id": "c8ca75ff",
   "metadata": {},
   "outputs": [
    {
     "name": "stdout",
     "output_type": "stream",
     "text": [
      "9\n"
     ]
    }
   ],
   "source": [
    "### Condition one\n",
    "x = 9\n",
    "##Here x is the variable on the left and 9 is the value assighned on the right. Here x is the Assighnment Operator\n",
    "print(x)"
   ]
  },
  {
   "cell_type": "code",
   "execution_count": 9,
   "id": "fc78535a",
   "metadata": {},
   "outputs": [
    {
     "data": {
      "text/plain": [
       "False"
      ]
     },
     "execution_count": 9,
     "metadata": {},
     "output_type": "execute_result"
    }
   ],
   "source": [
    "### Condition Two\n",
    "5==4"
   ]
  },
  {
   "cell_type": "markdown",
   "id": "bfead10d",
   "metadata": {},
   "source": [
    "In above code \"==\" is the operand checking the condition is either True or False"
   ]
  },
  {
   "cell_type": "markdown",
   "id": "a365c8da",
   "metadata": {},
   "source": [
    "7. Identify the three blocks in this code:\n",
    "\n",
    "spam = 0\n",
    "\n",
    "if spam == 10:\n",
    "print('eggs')\n",
    "\n",
    "if spam > 5:\n",
    "print('bacon')\n",
    "\n",
    "else:\n",
    "print('ham')\n",
    "print('spam')\n",
    "print('spam')"
   ]
  },
  {
   "cell_type": "code",
   "execution_count": 10,
   "id": "a7061873",
   "metadata": {},
   "outputs": [
    {
     "name": "stdout",
     "output_type": "stream",
     "text": [
      "ham\n",
      "spam\n",
      "spam\n"
     ]
    }
   ],
   "source": [
    "spam =0\n",
    "if spam ==10:\n",
    "    print('eggs')\n",
    "elif spam > 5:\n",
    "    print('bacon')\n",
    "else:\n",
    "    print('ham')\n",
    "    print('spam')\n",
    "    print('spam')"
   ]
  },
  {
   "cell_type": "markdown",
   "id": "8d7f4a94",
   "metadata": {},
   "source": [
    "8. Write code that prints Hello if 1 is stored in spam, prints Howdy if 2 is stored in spam, and prints Greetings! if anything else is stored in spam."
   ]
  },
  {
   "cell_type": "code",
   "execution_count": 11,
   "id": "2e061dc9",
   "metadata": {},
   "outputs": [
    {
     "name": "stdout",
     "output_type": "stream",
     "text": [
      "Hello\n",
      " \n"
     ]
    }
   ],
   "source": [
    "x = \"Hello\"\n",
    "print(x)\n",
    "if spam==1:\n",
    "    print(\"Howdy\")\n",
    "elif spam==2:\n",
    "    print(\"Greetings!\")\n",
    "else: \n",
    "    print(\" \")"
   ]
  },
  {
   "cell_type": "markdown",
   "id": "be3cfde7",
   "metadata": {},
   "source": [
    "9.If your programme is stuck in an endless loop, what keys you’ll press?"
   ]
  },
  {
   "cell_type": "markdown",
   "id": "55d297eb",
   "metadata": {},
   "source": [
    "Answer :\n",
    "    \n",
    "     \"ctrl+c\""
   ]
  },
  {
   "cell_type": "markdown",
   "id": "db462c5b",
   "metadata": {},
   "source": [
    "10. How can you tell the difference between break and continue?"
   ]
  },
  {
   "cell_type": "markdown",
   "id": "28723ce3",
   "metadata": {},
   "source": [
    "Answer :\n",
    "\n",
    "The break statement terminates the loop containing it. Control of the program flows to the statement immediately after the body of the loop.\n",
    "\n",
    "If the break statement is inside a nested loop (loop inside another loop), the break statement will terminate the innermost loop.\n",
    "\n",
    "The continue statement is used to skip the rest of the code inside a loop for the current iteration only. Loop does not terminate but continues on with the next iteration"
   ]
  },
  {
   "cell_type": "markdown",
   "id": "48b88b37",
   "metadata": {},
   "source": [
    "11. In a for loop, what is the difference between range(10), range(0, 10), and range(0, 10, 1)?"
   ]
  },
  {
   "cell_type": "markdown",
   "id": "2c15ac41",
   "metadata": {},
   "source": [
    "Answer :\n",
    "     \n",
    "        range(10) means here start = 0,step = 1(By default),stop=9\n",
    "        range(0,10) means here start =0,step = 1(By default),stop=9\n",
    "        range(0,10,1) means here start =0,step = 1(By default),stop=9\n",
    "        Thers is nothing differnce in the looping \n",
    "        "
   ]
  },
  {
   "cell_type": "markdown",
   "id": "f541a5b2",
   "metadata": {},
   "source": [
    "12. Write a short program that prints the numbers 1 to 10 using a for loop. Then write an equivalent program that prints the numbers 1 to 10 using a while loop.\n"
   ]
  },
  {
   "cell_type": "code",
   "execution_count": 12,
   "id": "170ee91e",
   "metadata": {},
   "outputs": [
    {
     "name": "stdout",
     "output_type": "stream",
     "text": [
      "1\n",
      "2\n",
      "3\n",
      "4\n",
      "5\n",
      "6\n",
      "7\n",
      "8\n",
      "9\n",
      "10\n"
     ]
    }
   ],
   "source": [
    "x = 0\n",
    "for i in range(1,11):\n",
    "    y = x + i\n",
    "    print(y)"
   ]
  },
  {
   "cell_type": "code",
   "execution_count": 14,
   "id": "5fc0fea1",
   "metadata": {},
   "outputs": [
    {
     "name": "stdout",
     "output_type": "stream",
     "text": [
      "1\n",
      "2\n",
      "3\n",
      "4\n",
      "5\n",
      "6\n",
      "7\n",
      "8\n",
      "9\n",
      "10\n"
     ]
    }
   ],
   "source": [
    "x = 1\n",
    "while x<=10:\n",
    "    print(x)\n",
    "    x+=1"
   ]
  },
  {
   "cell_type": "code",
   "execution_count": 15,
   "id": "1bdd2bff",
   "metadata": {},
   "outputs": [
    {
     "name": "stdout",
     "output_type": "stream",
     "text": [
      "1\n",
      "2\n",
      "3\n",
      "4\n",
      "5\n",
      "6\n",
      "7\n",
      "8\n",
      "9\n",
      "10\n"
     ]
    }
   ],
   "source": [
    "for i in range(1,11):\n",
    "    print(i)\n",
    "    i+=1"
   ]
  },
  {
   "cell_type": "markdown",
   "id": "a7e6ca60",
   "metadata": {},
   "source": [
    "13. If you had a function named bacon() inside a module named spam, how would you call it after importing spam?"
   ]
  },
  {
   "cell_type": "markdown",
   "id": "f702a304",
   "metadata": {},
   "source": [
    "Answer :\n",
    "     \n",
    "        This function called spam.bacon()"
   ]
  },
  {
   "cell_type": "code",
   "execution_count": null,
   "id": "2b28fb7e",
   "metadata": {},
   "outputs": [],
   "source": []
  }
 ],
 "metadata": {
  "kernelspec": {
   "display_name": "Python 3 (ipykernel)",
   "language": "python",
   "name": "python3"
  },
  "language_info": {
   "codemirror_mode": {
    "name": "ipython",
    "version": 3
   },
   "file_extension": ".py",
   "mimetype": "text/x-python",
   "name": "python",
   "nbconvert_exporter": "python",
   "pygments_lexer": "ipython3",
   "version": "3.9.7"
  }
 },
 "nbformat": 4,
 "nbformat_minor": 5
}
