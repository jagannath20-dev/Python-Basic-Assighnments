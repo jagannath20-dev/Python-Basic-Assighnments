{
 "cells": [
  {
   "cell_type": "markdown",
   "id": "a3643ce9",
   "metadata": {},
   "source": [
    "1. What is the relationship between def statements and lambda expressions ?"
   ]
  },
  {
   "cell_type": "markdown",
   "id": "9b862603",
   "metadata": {},
   "source": [
    "Ans: \n",
    "\n",
    "     def statement is used to create a normal function. where as lamba expressions are used to create \n",
    "     Anonymous  functions. which can be assigned to a variable and can be called using the variable later \n",
    "     in function.Lambda's body is a single expression and not a block of statements like def statement. \n",
    "     The lambda expression's body is similar to what we'd put in a def body's return statement. We simply type\n",
    "     the result as an expression instead of explicitly returning it. Because it is limited to an expression, a \n",
    "     lambda is less general than a def statement."
   ]
  },
  {
   "cell_type": "markdown",
   "id": "1bc51f09",
   "metadata": {},
   "source": [
    "2. What is the benefit of lambda?"
   ]
  },
  {
   "cell_type": "markdown",
   "id": "8fc96c7c",
   "metadata": {},
   "source": [
    "Answer: \n",
    "   \n",
    "     The following are some of the benefits of lambda expressions:\n",
    "     1.Can be used to create Nameless/Anonymous functions inside some complex functions if we are planning to use \n",
    "     it only once.\n",
    "     2.Moderate to small functions can be created in a single line\n",
    "     3.Fuctions created using lambda expressions can be assigned to a variable and can be used by simply calling \n",
    "     the variable"
   ]
  },
  {
   "cell_type": "markdown",
   "id": "bd3f399e",
   "metadata": {},
   "source": [
    "3. Compare and contrast map, filter, and reduce.\n"
   ]
  },
  {
   "cell_type": "markdown",
   "id": "805958d3",
   "metadata": {},
   "source": [
    "Answer:  \n",
    "\n",
    "    The differences between map, filter and reduce are:\n",
    "1.map():     \n",
    "\n",
    "      The map() function is a type of higher-order. This function takes another function as a parameter along with\n",
    "      a sequence of iterables and returns an output after applying the function to each iterable present in the \n",
    "      sequence.\n",
    "2.filter():\n",
    "\n",
    "      The filter() function is used to create an output list consisting of values for which the function returns true.\n",
    "3.reduce():\n",
    "\n",
    "      The reduce() function, as the name describes, applies a given function to the iterables and returns a\n",
    "      single value\n",
    "\n"
   ]
  },
  {
   "cell_type": "markdown",
   "id": "fc49b68f",
   "metadata": {},
   "source": [
    "4. What are function annotations, and how are they used?\n"
   ]
  },
  {
   "cell_type": "markdown",
   "id": "4db0b09f",
   "metadata": {},
   "source": [
    "Answer: \n",
    "        \n",
    "          Function annotations provide a way of associating various parts of a function with \n",
    "          arbitrary pythoncexpressions at compile time.\n",
    "          Annotations of simple parameters def func(x: expression, y: expression = 20):\n",
    "          Whereas the annotations for excess parameters are as − \n",
    "          def func (**args: expression, **kwargs: expression):\n"
   ]
  },
  {
   "cell_type": "markdown",
   "id": "603c2218",
   "metadata": {},
   "source": [
    "5. What are recursive functions, and how are they used?\n"
   ]
  },
  {
   "cell_type": "markdown",
   "id": "84d88eaa",
   "metadata": {},
   "source": [
    "Answer: \n",
    "\n",
    "      A recursive function is a function that calls itself during its execution. The process may repeat several \n",
    "      times, outputting the result and the end of each iteration.\n",
    "\n"
   ]
  },
  {
   "cell_type": "markdown",
   "id": "8f2a634c",
   "metadata": {},
   "source": [
    "6. What are some general design guidelines for coding functions?\n"
   ]
  },
  {
   "cell_type": "markdown",
   "id": "2d4bf476",
   "metadata": {},
   "source": [
    "Answer: \n",
    "  \n",
    "         Some of the general design guidelines for coding functions are:\n",
    "        1. Always use a docstring to explain the functionality of the function\n",
    "        2. avoid using or limited use of global variables\n",
    "        3. Proper Identation to increase the code readability\n",
    "        4. try to follow a naming convention for function names (pascalCase or camelCase) and stick with \n",
    "           the same convention throughout the application.\n",
    "        5. Avoid using digits while choosing a variable name\n",
    "        6. try to use a name for the function which conveys the purpose of the function\n",
    "        7. Local variables should be named using camelCase format (ex: localVariable) whereas Global variables\n",
    "           names should be using PascalCase (ex:GlobalVariable).\n",
    "        8. Constant should be represented in allcaps (ex:CONSTANT).\n"
   ]
  },
  {
   "cell_type": "markdown",
   "id": "28e2875f",
   "metadata": {},
   "source": [
    "7. Name three or more ways that functions can communicate results to a caller.\n"
   ]
  },
  {
   "cell_type": "markdown",
   "id": "36b5158d",
   "metadata": {},
   "source": [
    "Answer: \n",
    "    \n",
    "         Some of the ways in which a function can communicate with the calling function is:\n",
    "         \n",
    "         1. print\n",
    "         2. return\n",
    "         3. yield"
   ]
  },
  {
   "cell_type": "code",
   "execution_count": null,
   "id": "7d73b15d",
   "metadata": {},
   "outputs": [],
   "source": []
  }
 ],
 "metadata": {
  "kernelspec": {
   "display_name": "Python 3 (ipykernel)",
   "language": "python",
   "name": "python3"
  },
  "language_info": {
   "codemirror_mode": {
    "name": "ipython",
    "version": 3
   },
   "file_extension": ".py",
   "mimetype": "text/x-python",
   "name": "python",
   "nbconvert_exporter": "python",
   "pygments_lexer": "ipython3",
   "version": "3.9.7"
  }
 },
 "nbformat": 4,
 "nbformat_minor": 5
}
