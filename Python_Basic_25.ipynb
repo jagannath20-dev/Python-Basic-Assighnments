{
 "cells": [
  {
   "cell_type": "markdown",
   "id": "9080d997",
   "metadata": {},
   "source": [
    "1) . What is the difference between enclosing a list comprehension in square brackets and parentheses?"
   ]
  },
  {
   "cell_type": "markdown",
   "id": "43d59f4d",
   "metadata": {},
   "source": [
    "Answer  :\n",
    "    \n",
    "        Enclosing a list comprehension in square brackets returns a list but enclosing a list in parenthesis \n",
    "        returns a generator object."
   ]
  },
  {
   "cell_type": "code",
   "execution_count": 1,
   "id": "40fae6ca",
   "metadata": {},
   "outputs": [
    {
     "name": "stdout",
     "output_type": "stream",
     "text": [
      "[0, 1, 2, 3, 4, 5, 6, 7, 8, 9] <class 'list'>\n"
     ]
    }
   ],
   "source": [
    "l = [ele for ele in range(10)]\n",
    "print(l,type(l))"
   ]
  },
  {
   "cell_type": "code",
   "execution_count": 2,
   "id": "f02092b4",
   "metadata": {},
   "outputs": [
    {
     "name": "stdout",
     "output_type": "stream",
     "text": [
      "<generator object <genexpr> at 0x7fececef4b30> <class 'generator'>\n"
     ]
    }
   ],
   "source": [
    "g = (ele for ele in range(10))\n",
    "print(g,type(g))"
   ]
  },
  {
   "cell_type": "markdown",
   "id": "c63c482a",
   "metadata": {},
   "source": [
    "2) What is the relationship between generators and iterators?"
   ]
  },
  {
   "cell_type": "markdown",
   "id": "d7de0d0f",
   "metadata": {},
   "source": [
    "Answer  :\n",
    "    \n",
    "Iterators : \n",
    "       \n",
    "       A Process that is repeated more than one time by applying the same logic is called an iteration.\n",
    "       An iterator is an object which contains a countable number of values and it is used to iterate over \n",
    "       iterable objects like list, tuples, sets, etc. Iterators are implemented using a class and a local v\n",
    "       ariable for iterating is not required here, It follows lazy evaluation where the evaluation of the \n",
    "       expression will be on hold and stored in the memory until the item is called specifically which helps us \n",
    "       to avoid repeated evaluation. As lazy evaluation is implemented, it requires only 1 memory location to \n",
    "       process the value and when we are using a large dataset then, wastage of RAM space will be reduced the \n",
    "       need to load the entire dataset at the same time will not be there.\n",
    "Using an iterator-\n",
    "\n",
    "     iter() keyword is used to create an iterator containing an iterable object.\n",
    "     next() keyword is used to call the next element in the iterable object.\n",
    "     After the iterable object is completed, to use them again reassign them to the same object.\n",
    "Generators  :\n",
    "\n",
    "    It is another way of creating iterators in a simple way where it uses the keyword “yield” instead of returning \n",
    "    it in a defined function. Generators are implemented using a function. Just as iterators, generators also \n",
    "    follow lazy evaluation. Here, the yield function returns the data without affecting or exiting the function. \n",
    "    It will return a sequence of data in an iterable format where we need to iterate over the sequence to use the \n",
    "    data as they won’t store the entire sequence in the memory."
   ]
  },
  {
   "cell_type": "markdown",
   "id": "d55925f8",
   "metadata": {},
   "source": [
    "3) What are the signs that a function is a generator function?"
   ]
  },
  {
   "cell_type": "markdown",
   "id": "b698b059",
   "metadata": {},
   "source": [
    "Answer  :\n",
    "    \n",
    "        If a function contains at least one yield statement (it may contain other yield or return statements), \n",
    "        it becomes a generator function. Both yield and return will return some value from a function."
   ]
  },
  {
   "cell_type": "markdown",
   "id": "f01c16c4",
   "metadata": {},
   "source": [
    "4) What is the purpose of a yield statement?"
   ]
  },
  {
   "cell_type": "markdown",
   "id": "c29025b2",
   "metadata": {},
   "source": [
    "Answer  :\n",
    "\n",
    "        The yield statement suspends function’s execution and sends a value back to the caller, but retains \n",
    "        enough state to enable function to resume where it is left off. When resumed, the function continues \n",
    "        execution immediately after the last yield run. This allows its code to produce a series of values over \n",
    "        time, rather than computing them at once and sending them back like a list."
   ]
  },
  {
   "cell_type": "markdown",
   "id": "fc395dd7",
   "metadata": {},
   "source": [
    "5) What is the relationship between map calls and list comprehensions? Make a comparison and contrast between the two."
   ]
  },
  {
   "cell_type": "markdown",
   "id": "67dcfd64",
   "metadata": {},
   "source": [
    "Answer  :\n",
    "    \n",
    "       List comprehension is more concise and easier to read as compared to map.\n",
    "       List comprehension allows filtering. In map, we have no such facility. \n",
    "       For example, to print all even numbers in range of 100, we can write [n for n in range(100) if n%2 == 0].\n",
    "       There is no alternate for it in map\n",
    "       List comprehension are used when a list of results is required as map only returns a map object and does \n",
    "       not return any list.\n",
    "       List comprehension is faster than map when we need to evaluate expressions that are too long or complicated \n",
    "       to express\n",
    "       Map is faster in case of calling an already defined function (as no lambda is required)"
   ]
  },
  {
   "cell_type": "code",
   "execution_count": null,
   "id": "9e40f7b9",
   "metadata": {},
   "outputs": [],
   "source": []
  }
 ],
 "metadata": {
  "kernelspec": {
   "display_name": "Python 3 (ipykernel)",
   "language": "python",
   "name": "python3"
  },
  "language_info": {
   "codemirror_mode": {
    "name": "ipython",
    "version": 3
   },
   "file_extension": ".py",
   "mimetype": "text/x-python",
   "name": "python",
   "nbconvert_exporter": "python",
   "pygments_lexer": "ipython3",
   "version": "3.9.7"
  }
 },
 "nbformat": 4,
 "nbformat_minor": 5
}
