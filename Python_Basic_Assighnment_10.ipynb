{
 "cells": [
  {
   "cell_type": "markdown",
   "id": "5d339ce9",
   "metadata": {},
   "source": [
    "1. How do you distinguish between shutil.copy() and shutil.copytree()?"
   ]
  },
  {
   "cell_type": "markdown",
   "id": "8b08eb39",
   "metadata": {},
   "source": [
    "Answer  :\n",
    "    \n",
    "        shutil.copy() will copy the file at the path source to the folder at the path destination.\n",
    "        shutil.copy() will copy a single file while shutil.copytree() will copy an entire folder and every\n",
    "        folder contained."
   ]
  },
  {
   "cell_type": "markdown",
   "id": "48009caf",
   "metadata": {},
   "source": [
    "2. What function is used to rename files?"
   ]
  },
  {
   "cell_type": "markdown",
   "id": "d60fdd40",
   "metadata": {},
   "source": [
    "Answer :\n",
    "    \n",
    "      Os module in python provies functions to interact with the operating system.Os comes under python \n",
    "      standard utilities.\n",
    "      os.rename() method in python is used to rename a file or directory."
   ]
  },
  {
   "cell_type": "markdown",
   "id": "e1b21215",
   "metadata": {},
   "source": [
    "3. What is the difference between the delete functions in the send2trash and shutil modules?"
   ]
  },
  {
   "cell_type": "markdown",
   "id": "381ddd05",
   "metadata": {},
   "source": [
    "Answer  :\n",
    "    \n",
    "        Shutil module provides a funciton called as shutil.rmtree() which deletes a directory and all its \n",
    "        contents. The other functions with similar functionality are os.remove() removes a file,                               os.rmdir() removes \n",
    "        a empty  directory. The problem with these functions is once a file is deleted. it will be lost \n",
    "        permanently, if a file is deleted accidentally using these methods there is no way we can recover the \n",
    "        deleted  file.\n",
    "\n",
    "       Where as send2trash module provides a function called send2trash.send2trash() to delete a file/directory.\n",
    "       These methods moves the files/directories to trash folder instead of permanently deleting them. hence if \n",
    "       a  file/folder is deleted accidentally it can be still recovered from trash folder, if is deleted using \n",
    "       the send2trash.send2trash() function. send2trash is not included with python standard libary like os & \n",
    "       shutil modules. it needs to be installed explicitly using the command !pip install send2trash."
   ]
  },
  {
   "cell_type": "markdown",
   "id": "e7c7a6ce",
   "metadata": {},
   "source": [
    "4.ZipFile objects have a close() method just like File objects’ close() method. What ZipFile method is equivalent to File objects’ open() method?"
   ]
  },
  {
   "cell_type": "markdown",
   "id": "7d710743",
   "metadata": {},
   "source": [
    "Answer  :\n",
    "      \n",
    "        The zipfile.ZipFile() function is equivalent to the open() function; the first argument is the filename, \n",
    "        and  the second argument is the mode to open the ZIP file in (read, write, or append)."
   ]
  },
  {
   "cell_type": "markdown",
   "id": "dbfeb0ee",
   "metadata": {},
   "source": [
    "5. Create a programme that searches a folder tree for files with a certain file extension (such as .pdf or .jpg). Copy these files from whatever location they are in to a new folder.\n"
   ]
  },
  {
   "cell_type": "code",
   "execution_count": 10,
   "id": "e62ca457",
   "metadata": {},
   "outputs": [
    {
     "name": "stdout",
     "output_type": "stream",
     "text": [
      "searching --> /Users/devarakondajagannath for ['.pdf'] file\n",
      "Coping /Users/devarakondajagannath/Library/Group Containers/74J34U3R6X.com.apple.iWork/Library/Caches/com.apple.iWork.DocumentResources/603d19187b16b80c1ca56942123cb96f168874d5.pdf to /Users/devarakondajagannath/destination\n",
      "Coping /Users/devarakondajagannath/opt/anaconda3/pkgs/binaryornot-0.4.4-pyhd3eb1b0_1/info/test/tests/isBinaryFile/pdf.pdf to /Users/devarakondajagannath/destination\n",
      "Coping /Users/devarakondajagannath/opt/anaconda3/pkgs/matplotlib-base-3.4.3-py39h0a11d32_0/lib/python3.9/site-packages/matplotlib/mpl-data/images/filesave.pdf to /Users/devarakondajagannath/destination\n",
      "Coping /Users/devarakondajagannath/opt/anaconda3/pkgs/matplotlib-base-3.4.3-py39h0a11d32_0/lib/python3.9/site-packages/matplotlib/mpl-data/images/zoom_to_rect.pdf to /Users/devarakondajagannath/destination\n",
      "Coping /Users/devarakondajagannath/opt/anaconda3/pkgs/matplotlib-base-3.4.3-py39h0a11d32_0/lib/python3.9/site-packages/matplotlib/mpl-data/images/move.pdf to /Users/devarakondajagannath/destination\n",
      "Coping /Users/devarakondajagannath/opt/anaconda3/pkgs/matplotlib-base-3.4.3-py39h0a11d32_0/lib/python3.9/site-packages/matplotlib/mpl-data/images/matplotlib.pdf to /Users/devarakondajagannath/destination\n",
      "Coping /Users/devarakondajagannath/opt/anaconda3/pkgs/matplotlib-base-3.4.3-py39h0a11d32_0/lib/python3.9/site-packages/matplotlib/mpl-data/images/hand.pdf to /Users/devarakondajagannath/destination\n",
      "Coping /Users/devarakondajagannath/opt/anaconda3/pkgs/matplotlib-base-3.4.3-py39h0a11d32_0/lib/python3.9/site-packages/matplotlib/mpl-data/images/subplots.pdf to /Users/devarakondajagannath/destination\n",
      "Coping /Users/devarakondajagannath/opt/anaconda3/pkgs/matplotlib-base-3.4.3-py39h0a11d32_0/lib/python3.9/site-packages/matplotlib/mpl-data/images/home.pdf to /Users/devarakondajagannath/destination\n",
      "Coping /Users/devarakondajagannath/opt/anaconda3/pkgs/matplotlib-base-3.4.3-py39h0a11d32_0/lib/python3.9/site-packages/matplotlib/mpl-data/images/forward.pdf to /Users/devarakondajagannath/destination\n",
      "Coping /Users/devarakondajagannath/opt/anaconda3/pkgs/matplotlib-base-3.4.3-py39h0a11d32_0/lib/python3.9/site-packages/matplotlib/mpl-data/images/help.pdf to /Users/devarakondajagannath/destination\n",
      "Coping /Users/devarakondajagannath/opt/anaconda3/pkgs/matplotlib-base-3.4.3-py39h0a11d32_0/lib/python3.9/site-packages/matplotlib/mpl-data/images/qt4_editor_options.pdf to /Users/devarakondajagannath/destination\n",
      "Coping /Users/devarakondajagannath/opt/anaconda3/pkgs/matplotlib-base-3.4.3-py39h0a11d32_0/lib/python3.9/site-packages/matplotlib/mpl-data/images/back.pdf to /Users/devarakondajagannath/destination\n",
      "Coping /Users/devarakondajagannath/opt/anaconda3/pkgs/libxml2-2.9.12-hcdb78fc_0/share/doc/libxml2-2.9.12/html/tutorial/xmltutorial.pdf to /Users/devarakondajagannath/destination\n",
      "Coping /Users/devarakondajagannath/opt/anaconda3/pkgs/mpich-3.3.2-hc856adb_0/share/doc/mpich/install.pdf to /Users/devarakondajagannath/destination\n",
      "Coping /Users/devarakondajagannath/opt/anaconda3/pkgs/mpich-3.3.2-hc856adb_0/share/doc/mpich/user.pdf to /Users/devarakondajagannath/destination\n",
      "Coping /Users/devarakondajagannath/opt/anaconda3/pkgs/mpich-3.3.2-hc856adb_0/share/doc/mpich/logging.pdf to /Users/devarakondajagannath/destination\n",
      "Coping /Users/devarakondajagannath/opt/anaconda3/lib/python3.9/site-packages/matplotlib/mpl-data/images/filesave.pdf to /Users/devarakondajagannath/destination\n",
      "Coping /Users/devarakondajagannath/opt/anaconda3/lib/python3.9/site-packages/matplotlib/mpl-data/images/zoom_to_rect.pdf to /Users/devarakondajagannath/destination\n",
      "Coping /Users/devarakondajagannath/opt/anaconda3/lib/python3.9/site-packages/matplotlib/mpl-data/images/move.pdf to /Users/devarakondajagannath/destination\n",
      "Coping /Users/devarakondajagannath/opt/anaconda3/lib/python3.9/site-packages/matplotlib/mpl-data/images/matplotlib.pdf to /Users/devarakondajagannath/destination\n",
      "Coping /Users/devarakondajagannath/opt/anaconda3/lib/python3.9/site-packages/matplotlib/mpl-data/images/hand.pdf to /Users/devarakondajagannath/destination\n",
      "Coping /Users/devarakondajagannath/opt/anaconda3/lib/python3.9/site-packages/matplotlib/mpl-data/images/subplots.pdf to /Users/devarakondajagannath/destination\n",
      "Coping /Users/devarakondajagannath/opt/anaconda3/lib/python3.9/site-packages/matplotlib/mpl-data/images/home.pdf to /Users/devarakondajagannath/destination\n",
      "Coping /Users/devarakondajagannath/opt/anaconda3/lib/python3.9/site-packages/matplotlib/mpl-data/images/forward.pdf to /Users/devarakondajagannath/destination\n",
      "Coping /Users/devarakondajagannath/opt/anaconda3/lib/python3.9/site-packages/matplotlib/mpl-data/images/help.pdf to /Users/devarakondajagannath/destination\n",
      "Coping /Users/devarakondajagannath/opt/anaconda3/lib/python3.9/site-packages/matplotlib/mpl-data/images/qt4_editor_options.pdf to /Users/devarakondajagannath/destination\n",
      "Coping /Users/devarakondajagannath/opt/anaconda3/lib/python3.9/site-packages/matplotlib/mpl-data/images/back.pdf to /Users/devarakondajagannath/destination\n",
      "Coping /Users/devarakondajagannath/opt/anaconda3/share/doc/mpich/install.pdf to /Users/devarakondajagannath/destination\n",
      "Coping /Users/devarakondajagannath/opt/anaconda3/share/doc/mpich/user.pdf to /Users/devarakondajagannath/destination\n",
      "Coping /Users/devarakondajagannath/opt/anaconda3/share/doc/mpich/logging.pdf to /Users/devarakondajagannath/destination\n",
      "Coping /Users/devarakondajagannath/opt/anaconda3/share/doc/libxml2-2.9.12/html/tutorial/xmltutorial.pdf to /Users/devarakondajagannath/destination\n"
     ]
    }
   ],
   "source": [
    "import os, shutil\n",
    "\n",
    "def search_and_copy(folder, extensions, destFolder):\n",
    "    folder = os.path.abspath(folder)\n",
    "    destFolder = os.path.abspath(destFolder)\n",
    "    print('searching --> {} for {} file'.format(folder,extensions))\n",
    "    for foldername, subfolders, filenames in os.walk(folder):\n",
    "        for filename in filenames:\n",
    "            name, extension = os.path.splitext(filename)\n",
    "            if extension in extensions:\n",
    "                fileAbsPath = foldername + os.path.sep + filename\n",
    "                print('Coping', fileAbsPath, 'to', destFolder)\n",
    "                shutil.copy(fileAbsPath, destFolder)\n",
    "\n",
    "extensions = ['.pdf']\n",
    "folder = '/Users/devarakondajagannath'\n",
    "destFolder = 'destination'\n",
    "search_and_copy(folder, extensions, destFolder)"
   ]
  },
  {
   "cell_type": "code",
   "execution_count": null,
   "id": "e917d39b",
   "metadata": {},
   "outputs": [],
   "source": []
  }
 ],
 "metadata": {
  "kernelspec": {
   "display_name": "Python 3 (ipykernel)",
   "language": "python",
   "name": "python3"
  },
  "language_info": {
   "codemirror_mode": {
    "name": "ipython",
    "version": 3
   },
   "file_extension": ".py",
   "mimetype": "text/x-python",
   "name": "python",
   "nbconvert_exporter": "python",
   "pygments_lexer": "ipython3",
   "version": "3.9.7"
  }
 },
 "nbformat": 4,
 "nbformat_minor": 5
}
