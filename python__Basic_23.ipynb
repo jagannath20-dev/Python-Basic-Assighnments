{
 "cells": [
  {
   "cell_type": "raw",
   "id": "20ce3b1c",
   "metadata": {},
   "source": [
    "1. What is the result of the code, and why?\n",
    ">>> def func(a, b=6, c=8):\n",
    "      print(a, b, c)\n",
    ">>> func(1, 2)"
   ]
  },
  {
   "cell_type": "markdown",
   "id": "30589f16",
   "metadata": {},
   "source": [
    "Answer  :\n",
    "    \n",
    "     The result for the above code is 1,2,8 because we called the function by passing only two arguments but the \n",
    "     function has three arguemnts by default it uses the c values declared while creating a function"
   ]
  },
  {
   "cell_type": "raw",
   "id": "834d946b",
   "metadata": {},
   "source": [
    "2. What is the result of this code, and why?\n",
    ">>> def func(a, b, c=5):\n",
    "print(a, b, c)\n",
    ">>> func(1, c=3, b=2)"
   ]
  },
  {
   "cell_type": "markdown",
   "id": "a7ec809c",
   "metadata": {},
   "source": [
    "Answer :\n",
    "    \n",
    "     The result of the above code is 1 2 3. it is because the function will use default values only when a \n",
    "     value for a argument is not provided and if argument name is mentioned while doing a function call, the order \n",
    "     of arguments is also ignored by the python interpreter"
   ]
  },
  {
   "cell_type": "code",
   "execution_count": 3,
   "id": "3e0fbba9",
   "metadata": {},
   "outputs": [
    {
     "name": "stdout",
     "output_type": "stream",
     "text": [
      "1 2 3\n"
     ]
    }
   ],
   "source": [
    "def func(a,b,c=5):\n",
    "    print(a,b,c)\n",
    "func(1,c=3,b=2)"
   ]
  },
  {
   "cell_type": "raw",
   "id": "92400188",
   "metadata": {},
   "source": [
    "3. How about this code: what is its result, and why?\n",
    ">>> def func(a, *pargs):\n",
    "print(a, pargs)\n",
    ">>> func(1, 2, 3)"
   ]
  },
  {
   "cell_type": "markdown",
   "id": "f5c53974",
   "metadata": {},
   "source": [
    "Answer  :\n",
    "\n",
    "      The result of the code is 1 (2,3). *pargs stands for variable length arguments. This format is used when we \n",
    "      are not sure about the no of arguments to be passed to a function, all the values under this argument will \n",
    "      be stored in a tuple."
   ]
  },
  {
   "cell_type": "code",
   "execution_count": 4,
   "id": "26fb533c",
   "metadata": {},
   "outputs": [
    {
     "name": "stdout",
     "output_type": "stream",
     "text": [
      "1 (2, 3)\n"
     ]
    }
   ],
   "source": [
    "def func(a,*pargs):\n",
    "    print(a,pargs)\n",
    "func(1,2,3)"
   ]
  },
  {
   "cell_type": "raw",
   "id": "a0705b60",
   "metadata": {},
   "source": [
    "4. What does this code print, and why?\n",
    ">>> def func(a, **kargs):\n",
    "       print(a, kargs)\n",
    ">>> func(a=1, c=3, b=2)"
   ]
  },
  {
   "cell_type": "markdown",
   "id": "5252ed1f",
   "metadata": {},
   "source": [
    "Answer  : \n",
    "\n",
    "       The result of the above code is 1 {'c': 3, 'b': 2}. **args stands for variable length keyword arguments. \n",
    "       This format is used when we want pass key value pairs as input to a function. All these key value pairs will \n",
    "       be stored in a dictionary"
   ]
  },
  {
   "cell_type": "code",
   "execution_count": 5,
   "id": "35bd97f0",
   "metadata": {},
   "outputs": [
    {
     "name": "stdout",
     "output_type": "stream",
     "text": [
      "1 {'c': 3, 'b': 2}\n"
     ]
    }
   ],
   "source": [
    "def func(a,**kargs):\n",
    "    print(a,kargs)\n",
    "func(a=1,c=3,b=2)"
   ]
  },
  {
   "cell_type": "raw",
   "id": "8d1d42c0",
   "metadata": {},
   "source": [
    "5. What gets printed by this, and explain?\n",
    ">>> def func(a, b, c=8, d=5): \n",
    "       print(a, b, c, d)\n",
    ">>> func(1, *(5, 6))"
   ]
  },
  {
   "cell_type": "markdown",
   "id": "ae563cca",
   "metadata": {},
   "source": [
    "Answer  : \n",
    "\n",
    "       The output of the above code  is 1 5 6 5. The  function not throws an error  because, this function expects\n",
    "       4 arguments. the value for a is provided explicitly whereas for arguments b and c, the function will expand \n",
    "       the *(5,6) and consider the value of b as 5 and value of c as 6. since the default value of d is provided \n",
    "       in function declaration d value will be 5. However it is recommended to use the feature of positional \n",
    "       arguments at the end."
   ]
  },
  {
   "cell_type": "code",
   "execution_count": 6,
   "id": "84d132d0",
   "metadata": {},
   "outputs": [
    {
     "name": "stdout",
     "output_type": "stream",
     "text": [
      "1 5 6 5\n"
     ]
    }
   ],
   "source": [
    "def func(a,b,c=8,d=5):\n",
    "    print(a,b,c,d)\n",
    "func(1,*(5,6))"
   ]
  },
  {
   "cell_type": "raw",
   "id": "10c5f456",
   "metadata": {},
   "source": [
    "6. what is the result of this, and explain?\n",
    ">>> def func(a, b, c): a = 2; b[0] = 'x'; c['a'] = 'y'\n",
    ">>> l=1; m=[1]; n={'a':0}\n",
    ">>> func(l, m, n)\n",
    ">>> l, m, n"
   ]
  },
  {
   "cell_type": "markdown",
   "id": "84088675",
   "metadata": {},
   "source": [
    " The output of above code is 1, ['x'], {'a': 'y'}.\n",
    "\n",
    "Eventhough Python gives importance to indentation. its provides a facility to declare an entire function in one single line. where statements in a function body are sepereated by ;\n",
    "When l,m,n are provided as inputs to the function. its modifies the values of l,m,n and sets the value of l=2 ,m=['x'] and n={'a':'y'}"
   ]
  },
  {
   "cell_type": "code",
   "execution_count": 7,
   "id": "aa113bf7",
   "metadata": {},
   "outputs": [
    {
     "data": {
      "text/plain": [
       "(1, ['x'], {'a': 'y'})"
      ]
     },
     "execution_count": 7,
     "metadata": {},
     "output_type": "execute_result"
    }
   ],
   "source": [
    "def func(a, b, c): a = 2; b[0] = 'x'; c['a'] = 'y'\n",
    "l=1; m=[1]; n={'a':0}\n",
    "func(l, m, n)\n",
    "l,m,n"
   ]
  },
  {
   "cell_type": "code",
   "execution_count": null,
   "id": "e504ee1a",
   "metadata": {},
   "outputs": [],
   "source": []
  }
 ],
 "metadata": {
  "kernelspec": {
   "display_name": "Python 3 (ipykernel)",
   "language": "python",
   "name": "python3"
  },
  "language_info": {
   "codemirror_mode": {
    "name": "ipython",
    "version": 3
   },
   "file_extension": ".py",
   "mimetype": "text/x-python",
   "name": "python",
   "nbconvert_exporter": "python",
   "pygments_lexer": "ipython3",
   "version": "3.9.7"
  }
 },
 "nbformat": 4,
 "nbformat_minor": 5
}
